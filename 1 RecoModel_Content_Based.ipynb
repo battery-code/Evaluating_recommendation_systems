{
 "cells": [
  {
   "cell_type": "markdown",
   "metadata": {},
   "source": [
    "## Recommendation Systems - Content-Based \n",
    "This notebook builds a **Content-Based Recommendation Model** to suggest similar magazines based on their descriptions and categories. By analyzing the content of each magazine, the model recommends items with similar attributes.  \n",
    "\n",
    "### **Approach:**  \n",
    "1. **Data Preparation**  \n",
    "   - Extracted magazine **descriptions** and **categories** from the dataset.  \n",
    "   - Cleaned text by removing **duplicates, punctuation, and special characters**.  \n",
    "   - Performed **keyword extraction** from descriptions using the **RAKE library**.  \n",
    "   - Created a **bag of words** by combining category labels and extracted keywords.  \n",
    "\n",
    "2. **Modeling**  \n",
    "   - Used **CountVectorizer** to convert the bag of words into numerical vectors.  \n",
    "   - Computed **cosine similarity** between magazines to measure content similarity.  \n",
    "   - Given a magazine, the model retrieves the most similar magazines based on content.  \n",
    "\n",
    "3. **Evaluation**  \n",
    "   - Compared model-generated recommendations with Amazon's actual recommendations.  \n",
    "   - **2 out of 5** recommendations matched Amazon’s suggested products.  \n",
    "\n",
    "This content-based approach enables personalized recommendations based on magazine descriptions and categories rather than user behavior.  \n"
   ]
  },
  {
   "cell_type": "code",
   "execution_count": 3,
   "metadata": {
    "executionInfo": {
     "elapsed": 1394,
     "status": "ok",
     "timestamp": 1653858628480,
     "user": {
      "displayName": "Bhadri Vaidhyanathan",
      "userId": "02716381227085486844"
     },
     "user_tz": 300
    },
    "id": "zRtJNA81Kg2P"
   },
   "outputs": [],
   "source": [
    "# %matplotlib inline\n",
    "import numpy as np\n",
    "import pandas as pd\n",
    "\n",
    "import nltk\n",
    "from sklearn.feature_extraction.text import CountVectorizer"
   ]
  },
  {
   "cell_type": "code",
   "execution_count": 1,
   "metadata": {
    "colab": {
     "base_uri": "https://localhost:8080/"
    },
    "executionInfo": {
     "elapsed": 1207,
     "status": "ok",
     "timestamp": 1653858616751,
     "user": {
      "displayName": "Bhadri Vaidhyanathan",
      "userId": "02716381227085486844"
     },
     "user_tz": 300
    },
    "id": "2vUYO6g8aivE",
    "outputId": "8f707bbc-04e4-43ff-91d3-468f5f73137c"
   },
   "outputs": [
    {
     "name": "stdout",
     "output_type": "stream",
     "text": [
      "Drive already mounted at /content/drive; to attempt to forcibly remount, call drive.mount(\"/content/drive\", force_remount=True).\n"
     ]
    }
   ],
   "source": [
    "from google.colab import drive\n",
    "drive.mount('/content/drive')"
   ]
  },
  {
   "cell_type": "code",
   "execution_count": 81,
   "metadata": {
    "executionInfo": {
     "elapsed": 272,
     "status": "ok",
     "timestamp": 1653862944045,
     "user": {
      "displayName": "Bhadri Vaidhyanathan",
      "userId": "02716381227085486844"
     },
     "user_tz": 300
    },
    "id": "ROVP-SM26Y81"
   },
   "outputs": [],
   "source": [
    "pd.set_option('display.max_colwidth',50)"
   ]
  },
  {
   "cell_type": "code",
   "execution_count": 17,
   "metadata": {
    "colab": {
     "base_uri": "https://localhost:8080/"
    },
    "executionInfo": {
     "elapsed": 233,
     "status": "ok",
     "timestamp": 1653858864389,
     "user": {
      "displayName": "Bhadri Vaidhyanathan",
      "userId": "02716381227085486844"
     },
     "user_tz": 300
    },
    "id": "7-y7410iZmBr",
    "outputId": "deb1c1dc-b68b-43c4-d445-ecc04d471174"
   },
   "outputs": [
    {
     "name": "stderr",
     "output_type": "stream",
     "text": [
      "[nltk_data] Downloading package stopwords to /root/nltk_data...\n",
      "[nltk_data]   Unzipping corpora/stopwords.zip.\n"
     ]
    },
    {
     "data": {
      "text/plain": [
       "True"
      ]
     },
     "execution_count": 17,
     "metadata": {},
     "output_type": "execute_result"
    }
   ],
   "source": [
    "!pip install rake-nltk\n",
    "from rake_nltk import Rake\n",
    "import nltk\n",
    "nltk.download('stopwords')\n",
    "nltk.download('punkt')"
   ]
  },
  {
   "cell_type": "code",
   "execution_count": 83,
   "metadata": {
    "colab": {
     "base_uri": "https://localhost:8080/",
     "height": 367
    },
    "executionInfo": {
     "elapsed": 268,
     "status": "ok",
     "timestamp": 1653862957934,
     "user": {
      "displayName": "Bhadri Vaidhyanathan",
      "userId": "02716381227085486844"
     },
     "user_tz": 300
    },
    "id": "Ajy9cl-VZmBa",
    "outputId": "5b1618bf-d409-46e0-ad00-0150ead5be40"
   },
   "outputs": [
    {
     "name": "stdout",
     "output_type": "stream",
     "text": [
      "(3385, 19)\n"
     ]
    },
    {
     "data": {
      "text/html": [
       "\n",
       "  <div id=\"df-cda2734e-46b4-455a-acf9-67b7048c43e0\">\n",
       "    <div class=\"colab-df-container\">\n",
       "      <div>\n",
       "<style scoped>\n",
       "    .dataframe tbody tr th:only-of-type {\n",
       "        vertical-align: middle;\n",
       "    }\n",
       "\n",
       "    .dataframe tbody tr th {\n",
       "        vertical-align: top;\n",
       "    }\n",
       "\n",
       "    .dataframe thead th {\n",
       "        text-align: right;\n",
       "    }\n",
       "</style>\n",
       "<table border=\"1\" class=\"dataframe\">\n",
       "  <thead>\n",
       "    <tr style=\"text-align: right;\">\n",
       "      <th></th>\n",
       "      <th>category</th>\n",
       "      <th>tech1</th>\n",
       "      <th>description</th>\n",
       "      <th>fit</th>\n",
       "      <th>title</th>\n",
       "      <th>also_buy</th>\n",
       "      <th>tech2</th>\n",
       "      <th>brand</th>\n",
       "      <th>feature</th>\n",
       "      <th>rank</th>\n",
       "      <th>also_view</th>\n",
       "      <th>details</th>\n",
       "      <th>main_cat</th>\n",
       "      <th>similar_item</th>\n",
       "      <th>date</th>\n",
       "      <th>price</th>\n",
       "      <th>asin</th>\n",
       "      <th>imageURL</th>\n",
       "      <th>imageURLHighRes</th>\n",
       "    </tr>\n",
       "  </thead>\n",
       "  <tbody>\n",
       "    <tr>\n",
       "      <th>0</th>\n",
       "      <td>[Magazine Subscriptions, Professional &amp; Educat...</td>\n",
       "      <td></td>\n",
       "      <td>[REASON is edited for people interested in eco...</td>\n",
       "      <td></td>\n",
       "      <td>&lt;span class=\"a-size-medium a-color-secondary\"</td>\n",
       "      <td>[B002PXVYLE, B01MCU84LB, B000UHI2LW, B01AKS14A...</td>\n",
       "      <td></td>\n",
       "      <td>Reason Magazine</td>\n",
       "      <td>[]</td>\n",
       "      <td>[]</td>\n",
       "      <td>[B002PXVYLE, B000UHI2LW, B01MCU84LB, B002PXW18...</td>\n",
       "      <td>{'Format:': 'Print Magazine', 'Shipping: ': 'C...</td>\n",
       "      <td>Magazine Subscriptions</td>\n",
       "      <td></td>\n",
       "      <td>NaT</td>\n",
       "      <td></td>\n",
       "      <td>B00005N7NQ</td>\n",
       "      <td>[https://images-na.ssl-images-amazon.com/image...</td>\n",
       "      <td>[https://images-na.ssl-images-amazon.com/image...</td>\n",
       "    </tr>\n",
       "    <tr>\n",
       "      <th>1</th>\n",
       "      <td>[Magazine Subscriptions, Arts, Music &amp;amp; Pho...</td>\n",
       "      <td></td>\n",
       "      <td>[Written by and for musicians. Covers a variet...</td>\n",
       "      <td></td>\n",
       "      <td>&lt;span class=\"a-size-medium a-color-secondary\"</td>\n",
       "      <td>[B002PXVYGE, B0054LRNC8, B000BVEELE, B00006KC3...</td>\n",
       "      <td></td>\n",
       "      <td>String Letter Publishers</td>\n",
       "      <td>[]</td>\n",
       "      <td>742 in Magazine Subscriptions (</td>\n",
       "      <td>[B002PXVYGE, B0054LRNC8, B00006L16A, 171906487...</td>\n",
       "      <td>{'Format:': 'Print Magazine', 'Shipping: ': 'C...</td>\n",
       "      <td>Magazine Subscriptions</td>\n",
       "      <td></td>\n",
       "      <td>NaT</td>\n",
       "      <td></td>\n",
       "      <td>B00005N7OC</td>\n",
       "      <td>[https://images-na.ssl-images-amazon.com/image...</td>\n",
       "      <td>[https://images-na.ssl-images-amazon.com/image...</td>\n",
       "    </tr>\n",
       "  </tbody>\n",
       "</table>\n",
       "</div>\n",
       "      <button class=\"colab-df-convert\" onclick=\"convertToInteractive('df-cda2734e-46b4-455a-acf9-67b7048c43e0')\"\n",
       "              title=\"Convert this dataframe to an interactive table.\"\n",
       "              style=\"display:none;\">\n",
       "        \n",
       "  <svg xmlns=\"http://www.w3.org/2000/svg\" height=\"24px\"viewBox=\"0 0 24 24\"\n",
       "       width=\"24px\">\n",
       "    <path d=\"M0 0h24v24H0V0z\" fill=\"none\"/>\n",
       "    <path d=\"M18.56 5.44l.94 2.06.94-2.06 2.06-.94-2.06-.94-.94-2.06-.94 2.06-2.06.94zm-11 1L8.5 8.5l.94-2.06 2.06-.94-2.06-.94L8.5 2.5l-.94 2.06-2.06.94zm10 10l.94 2.06.94-2.06 2.06-.94-2.06-.94-.94-2.06-.94 2.06-2.06.94z\"/><path d=\"M17.41 7.96l-1.37-1.37c-.4-.4-.92-.59-1.43-.59-.52 0-1.04.2-1.43.59L10.3 9.45l-7.72 7.72c-.78.78-.78 2.05 0 2.83L4 21.41c.39.39.9.59 1.41.59.51 0 1.02-.2 1.41-.59l7.78-7.78 2.81-2.81c.8-.78.8-2.07 0-2.86zM5.41 20L4 18.59l7.72-7.72 1.47 1.35L5.41 20z\"/>\n",
       "  </svg>\n",
       "      </button>\n",
       "      \n",
       "  <style>\n",
       "    .colab-df-container {\n",
       "      display:flex;\n",
       "      flex-wrap:wrap;\n",
       "      gap: 12px;\n",
       "    }\n",
       "\n",
       "    .colab-df-convert {\n",
       "      background-color: #E8F0FE;\n",
       "      border: none;\n",
       "      border-radius: 50%;\n",
       "      cursor: pointer;\n",
       "      display: none;\n",
       "      fill: #1967D2;\n",
       "      height: 32px;\n",
       "      padding: 0 0 0 0;\n",
       "      width: 32px;\n",
       "    }\n",
       "\n",
       "    .colab-df-convert:hover {\n",
       "      background-color: #E2EBFA;\n",
       "      box-shadow: 0px 1px 2px rgba(60, 64, 67, 0.3), 0px 1px 3px 1px rgba(60, 64, 67, 0.15);\n",
       "      fill: #174EA6;\n",
       "    }\n",
       "\n",
       "    [theme=dark] .colab-df-convert {\n",
       "      background-color: #3B4455;\n",
       "      fill: #D2E3FC;\n",
       "    }\n",
       "\n",
       "    [theme=dark] .colab-df-convert:hover {\n",
       "      background-color: #434B5C;\n",
       "      box-shadow: 0px 1px 3px 1px rgba(0, 0, 0, 0.15);\n",
       "      filter: drop-shadow(0px 1px 2px rgba(0, 0, 0, 0.3));\n",
       "      fill: #FFFFFF;\n",
       "    }\n",
       "  </style>\n",
       "\n",
       "      <script>\n",
       "        const buttonEl =\n",
       "          document.querySelector('#df-cda2734e-46b4-455a-acf9-67b7048c43e0 button.colab-df-convert');\n",
       "        buttonEl.style.display =\n",
       "          google.colab.kernel.accessAllowed ? 'block' : 'none';\n",
       "\n",
       "        async function convertToInteractive(key) {\n",
       "          const element = document.querySelector('#df-cda2734e-46b4-455a-acf9-67b7048c43e0');\n",
       "          const dataTable =\n",
       "            await google.colab.kernel.invokeFunction('convertToInteractive',\n",
       "                                                     [key], {});\n",
       "          if (!dataTable) return;\n",
       "\n",
       "          const docLinkHtml = 'Like what you see? Visit the ' +\n",
       "            '<a target=\"_blank\" href=https://colab.research.google.com/notebooks/data_table.ipynb>data table notebook</a>'\n",
       "            + ' to learn more about interactive tables.';\n",
       "          element.innerHTML = '';\n",
       "          dataTable['output_type'] = 'display_data';\n",
       "          await google.colab.output.renderOutput(dataTable, element);\n",
       "          const docLink = document.createElement('div');\n",
       "          docLink.innerHTML = docLinkHtml;\n",
       "          element.appendChild(docLink);\n",
       "        }\n",
       "      </script>\n",
       "    </div>\n",
       "  </div>\n",
       "  "
      ],
      "text/plain": [
       "                                            category tech1  \\\n",
       "0  [Magazine Subscriptions, Professional & Educat...         \n",
       "1  [Magazine Subscriptions, Arts, Music &amp; Pho...         \n",
       "\n",
       "                                         description fit  \\\n",
       "0  [REASON is edited for people interested in eco...       \n",
       "1  [Written by and for musicians. Covers a variet...       \n",
       "\n",
       "                                           title  \\\n",
       "0  <span class=\"a-size-medium a-color-secondary\"   \n",
       "1  <span class=\"a-size-medium a-color-secondary\"   \n",
       "\n",
       "                                            also_buy tech2  \\\n",
       "0  [B002PXVYLE, B01MCU84LB, B000UHI2LW, B01AKS14A...         \n",
       "1  [B002PXVYGE, B0054LRNC8, B000BVEELE, B00006KC3...         \n",
       "\n",
       "                      brand feature                             rank  \\\n",
       "0           Reason Magazine      []                               []   \n",
       "1  String Letter Publishers      []  742 in Magazine Subscriptions (   \n",
       "\n",
       "                                           also_view  \\\n",
       "0  [B002PXVYLE, B000UHI2LW, B01MCU84LB, B002PXW18...   \n",
       "1  [B002PXVYGE, B0054LRNC8, B00006L16A, 171906487...   \n",
       "\n",
       "                                             details                main_cat  \\\n",
       "0  {'Format:': 'Print Magazine', 'Shipping: ': 'C...  Magazine Subscriptions   \n",
       "1  {'Format:': 'Print Magazine', 'Shipping: ': 'C...  Magazine Subscriptions   \n",
       "\n",
       "  similar_item date price        asin  \\\n",
       "0               NaT        B00005N7NQ   \n",
       "1               NaT        B00005N7OC   \n",
       "\n",
       "                                            imageURL  \\\n",
       "0  [https://images-na.ssl-images-amazon.com/image...   \n",
       "1  [https://images-na.ssl-images-amazon.com/image...   \n",
       "\n",
       "                                     imageURLHighRes  \n",
       "0  [https://images-na.ssl-images-amazon.com/image...  \n",
       "1  [https://images-na.ssl-images-amazon.com/image...  "
      ]
     },
     "execution_count": 83,
     "metadata": {},
     "output_type": "execute_result"
    }
   ],
   "source": [
    "df3 = pd.read_json('/content/drive/MyDrive/Machine Learning- Group Project/meta_Magazine_Subscriptions.json', lines=True)\n",
    "print(df3.shape)\n",
    "df3.head(2)"
   ]
  },
  {
   "cell_type": "code",
   "execution_count": 107,
   "metadata": {
    "colab": {
     "base_uri": "https://localhost:8080/"
    },
    "executionInfo": {
     "elapsed": 1043,
     "status": "ok",
     "timestamp": 1653863683491,
     "user": {
      "displayName": "Bhadri Vaidhyanathan",
      "userId": "02716381227085486844"
     },
     "user_tz": 300
    },
    "id": "oX2FgM6Ib3zz",
    "outputId": "ea11cd95-506c-4c9d-a8bc-99e31cf8818d"
   },
   "outputs": [
    {
     "name": "stdout",
     "output_type": "stream",
     "text": [
      "(3385, 3)\n"
     ]
    }
   ],
   "source": [
    "meta = df3[['asin','description','category']]\n",
    "print(meta.shape)"
   ]
  },
  {
   "cell_type": "code",
   "execution_count": 108,
   "metadata": {
    "colab": {
     "base_uri": "https://localhost:8080/"
    },
    "executionInfo": {
     "elapsed": 2,
     "status": "ok",
     "timestamp": 1653863684930,
     "user": {
      "displayName": "Bhadri Vaidhyanathan",
      "userId": "02716381227085486844"
     },
     "user_tz": 300
    },
    "id": "c8quypMTbrnr",
    "outputId": "972b0de2-1b48-4db3-d208-fb84ebf40b3a"
   },
   "outputs": [
    {
     "name": "stdout",
     "output_type": "stream",
     "text": [
      "how many duplicate items:  1065\n"
     ]
    },
    {
     "name": "stderr",
     "output_type": "stream",
     "text": [
      "/usr/local/lib/python3.7/dist-packages/pandas/util/_decorators.py:311: SettingWithCopyWarning: \n",
      "A value is trying to be set on a copy of a slice from a DataFrame\n",
      "\n",
      "See the caveats in the documentation: https://pandas.pydata.org/pandas-docs/stable/user_guide/indexing.html#returning-a-view-versus-a-copy\n",
      "  return func(*args, **kwargs)\n"
     ]
    }
   ],
   "source": [
    "#how many duplicate items\n",
    "print(\"how many duplicate items: \",meta.duplicated(subset=['asin']).sum())\n",
    "#dropping duplicate items\n",
    "meta.drop_duplicates(subset=['asin'],inplace=True)"
   ]
  },
  {
   "cell_type": "code",
   "execution_count": 109,
   "metadata": {
    "colab": {
     "base_uri": "https://localhost:8080/"
    },
    "executionInfo": {
     "elapsed": 349,
     "status": "ok",
     "timestamp": 1653863686625,
     "user": {
      "displayName": "Bhadri Vaidhyanathan",
      "userId": "02716381227085486844"
     },
     "user_tz": 300
    },
    "id": "3RDeAE1Ydan7",
    "outputId": "b150e8c9-2d79-4f76-c27f-7b01fbfe63a8"
   },
   "outputs": [
    {
     "name": "stdout",
     "output_type": "stream",
     "text": [
      "how many items with no categ info:  (442, 3)\n",
      "final shape: (1878, 3)\n"
     ]
    }
   ],
   "source": [
    "# how many items with no categ info; removing them\n",
    "print(\"how many items with no categ info: \",meta[meta['category'].str.len() == 0].shape) \n",
    "meta = meta[meta['category'].str.len() != 0]\n",
    "print(\"final shape:\",meta.shape)"
   ]
  },
  {
   "cell_type": "code",
   "execution_count": 110,
   "metadata": {
    "colab": {
     "base_uri": "https://localhost:8080/"
    },
    "executionInfo": {
     "elapsed": 244,
     "status": "ok",
     "timestamp": 1653863688675,
     "user": {
      "displayName": "Bhadri Vaidhyanathan",
      "userId": "02716381227085486844"
     },
     "user_tz": 300
    },
    "id": "o1fFE9CPgfeY",
    "outputId": "05ab6f2f-e2ef-4219-9a4b-d015773a5bf7"
   },
   "outputs": [
    {
     "name": "stdout",
     "output_type": "stream",
     "text": [
      "how many items with no desc info:  (234, 3)\n",
      "final shape: (1644, 3)\n"
     ]
    }
   ],
   "source": [
    "print(\"how many items with no desc info: \",meta[meta['description'].str.len() == 0].shape)\n",
    "#remove them\n",
    "meta = meta[meta['description'].str.len() != 0]\n",
    "print(\"final shape:\",meta.shape)"
   ]
  },
  {
   "cell_type": "code",
   "execution_count": 111,
   "metadata": {
    "executionInfo": {
     "elapsed": 274,
     "status": "ok",
     "timestamp": 1653863690961,
     "user": {
      "displayName": "Bhadri Vaidhyanathan",
      "userId": "02716381227085486844"
     },
     "user_tz": 300
    },
    "id": "qwKquPO1dbFq"
   },
   "outputs": [],
   "source": [
    "#take out description string stored as list and save as string to new column\n",
    "meta['desc2'] = meta['description'].apply(lambda x: \"\".join(x))"
   ]
  },
  {
   "cell_type": "code",
   "execution_count": 112,
   "metadata": {
    "colab": {
     "base_uri": "https://localhost:8080/",
     "height": 462
    },
    "executionInfo": {
     "elapsed": 400,
     "status": "ok",
     "timestamp": 1653863694566,
     "user": {
      "displayName": "Bhadri Vaidhyanathan",
      "userId": "02716381227085486844"
     },
     "user_tz": 300
    },
    "id": "efgCPZq7gKKf",
    "outputId": "5b509232-1cca-4a4a-c51e-0d52e54517dc"
   },
   "outputs": [
    {
     "name": "stdout",
     "output_type": "stream",
     "text": [
      "how many, duplicated descriptions:  154\n",
      "visual check:\n"
     ]
    },
    {
     "data": {
      "text/html": [
       "\n",
       "  <div id=\"df-b1aa37eb-f61d-418b-83e9-8ef4244af254\">\n",
       "    <div class=\"colab-df-container\">\n",
       "      <div>\n",
       "<style scoped>\n",
       "    .dataframe tbody tr th:only-of-type {\n",
       "        vertical-align: middle;\n",
       "    }\n",
       "\n",
       "    .dataframe tbody tr th {\n",
       "        vertical-align: top;\n",
       "    }\n",
       "\n",
       "    .dataframe thead th {\n",
       "        text-align: right;\n",
       "    }\n",
       "</style>\n",
       "<table border=\"1\" class=\"dataframe\">\n",
       "  <thead>\n",
       "    <tr style=\"text-align: right;\">\n",
       "      <th></th>\n",
       "      <th>asin</th>\n",
       "      <th>description</th>\n",
       "      <th>category</th>\n",
       "      <th>desc2</th>\n",
       "    </tr>\n",
       "  </thead>\n",
       "  <tbody>\n",
       "    <tr>\n",
       "      <th>2360</th>\n",
       "      <td>B000LE0O74</td>\n",
       "      <td>[&lt;I&gt;Selvedge&lt;/I&gt; magazine offers fine textile photography, cutting edge reports on contemporary textile art, detailed profiles of internationally renowned artists, articles on ethnographic textiles, critical coverage of the fashion and design industry, news, book reviews, and information on exhi...</td>\n",
       "      <td>[Magazine Subscriptions, Professional &amp; Educational Journals, Professional &amp; Trade, Arts, Photography]</td>\n",
       "      <td>&lt;I&gt;Selvedge&lt;/I&gt; magazine offers fine textile photography, cutting edge reports on contemporary textile art, detailed profiles of internationally renowned artists, articles on ethnographic textiles, critical coverage of the fashion and design industry, news, book reviews, and information on exhib...</td>\n",
       "    </tr>\n",
       "    <tr>\n",
       "      <th>2181</th>\n",
       "      <td>B0009GJBD2</td>\n",
       "      <td>[&lt;I&gt;Selvedge&lt;/I&gt; magazine offers fine textile photography, cutting edge reports on contemporary textile art, detailed profiles of internationally renowned artists, articles on ethnographic textiles, critical coverage of the fashion and design industry, news, book reviews, and information on exhi...</td>\n",
       "      <td>[Magazine Subscriptions, Professional &amp; Educational Journals, Professional &amp; Trade, Arts, Photography]</td>\n",
       "      <td>&lt;I&gt;Selvedge&lt;/I&gt; magazine offers fine textile photography, cutting edge reports on contemporary textile art, detailed profiles of internationally renowned artists, articles on ethnographic textiles, critical coverage of the fashion and design industry, news, book reviews, and information on exhib...</td>\n",
       "    </tr>\n",
       "    <tr>\n",
       "      <th>3367</th>\n",
       "      <td>B01H0LP47U</td>\n",
       "      <td>[&lt;i&gt;Women&amp;#x2019;s Health&lt;/i&gt; gives you the tools you need to get healthier, sexier, stronger, slimmer&amp;#x2014;and stay that way, all year long! Every issue inspires you with fresh fitness secrets, mealtime makeovers, and beauty and fashion tips to bring out your inner confidence. You'll find 15-...</td>\n",
       "      <td>[Magazine Subscriptions, Sports, Recreation &amp; Outdoors, Sports &amp; Leisure, Training]</td>\n",
       "      <td>&lt;i&gt;Women&amp;#x2019;s Health&lt;/i&gt; gives you the tools you need to get healthier, sexier, stronger, slimmer&amp;#x2014;and stay that way, all year long! Every issue inspires you with fresh fitness secrets, mealtime makeovers, and beauty and fashion tips to bring out your inner confidence. You'll find 15-m...</td>\n",
       "    </tr>\n",
       "    <tr>\n",
       "      <th>3056</th>\n",
       "      <td>B010EJ6MSU</td>\n",
       "      <td>[&lt;i&gt;Women&amp;#x2019;s Health&lt;/i&gt; gives you the tools you need to get healthier, sexier, stronger, slimmer&amp;#x2014;and stay that way, all year long! Every issue inspires you with fresh fitness secrets, mealtime makeovers, and beauty and fashion tips to bring out your inner confidence. You'll find 15-...</td>\n",
       "      <td>[Magazine Subscriptions, Sports, Recreation &amp; Outdoors, Sports &amp; Leisure, Training]</td>\n",
       "      <td>&lt;i&gt;Women&amp;#x2019;s Health&lt;/i&gt; gives you the tools you need to get healthier, sexier, stronger, slimmer&amp;#x2014;and stay that way, all year long! Every issue inspires you with fresh fitness secrets, mealtime makeovers, and beauty and fashion tips to bring out your inner confidence. You'll find 15-m...</td>\n",
       "    </tr>\n",
       "  </tbody>\n",
       "</table>\n",
       "</div>\n",
       "      <button class=\"colab-df-convert\" onclick=\"convertToInteractive('df-b1aa37eb-f61d-418b-83e9-8ef4244af254')\"\n",
       "              title=\"Convert this dataframe to an interactive table.\"\n",
       "              style=\"display:none;\">\n",
       "        \n",
       "  <svg xmlns=\"http://www.w3.org/2000/svg\" height=\"24px\"viewBox=\"0 0 24 24\"\n",
       "       width=\"24px\">\n",
       "    <path d=\"M0 0h24v24H0V0z\" fill=\"none\"/>\n",
       "    <path d=\"M18.56 5.44l.94 2.06.94-2.06 2.06-.94-2.06-.94-.94-2.06-.94 2.06-2.06.94zm-11 1L8.5 8.5l.94-2.06 2.06-.94-2.06-.94L8.5 2.5l-.94 2.06-2.06.94zm10 10l.94 2.06.94-2.06 2.06-.94-2.06-.94-.94-2.06-.94 2.06-2.06.94z\"/><path d=\"M17.41 7.96l-1.37-1.37c-.4-.4-.92-.59-1.43-.59-.52 0-1.04.2-1.43.59L10.3 9.45l-7.72 7.72c-.78.78-.78 2.05 0 2.83L4 21.41c.39.39.9.59 1.41.59.51 0 1.02-.2 1.41-.59l7.78-7.78 2.81-2.81c.8-.78.8-2.07 0-2.86zM5.41 20L4 18.59l7.72-7.72 1.47 1.35L5.41 20z\"/>\n",
       "  </svg>\n",
       "      </button>\n",
       "      \n",
       "  <style>\n",
       "    .colab-df-container {\n",
       "      display:flex;\n",
       "      flex-wrap:wrap;\n",
       "      gap: 12px;\n",
       "    }\n",
       "\n",
       "    .colab-df-convert {\n",
       "      background-color: #E8F0FE;\n",
       "      border: none;\n",
       "      border-radius: 50%;\n",
       "      cursor: pointer;\n",
       "      display: none;\n",
       "      fill: #1967D2;\n",
       "      height: 32px;\n",
       "      padding: 0 0 0 0;\n",
       "      width: 32px;\n",
       "    }\n",
       "\n",
       "    .colab-df-convert:hover {\n",
       "      background-color: #E2EBFA;\n",
       "      box-shadow: 0px 1px 2px rgba(60, 64, 67, 0.3), 0px 1px 3px 1px rgba(60, 64, 67, 0.15);\n",
       "      fill: #174EA6;\n",
       "    }\n",
       "\n",
       "    [theme=dark] .colab-df-convert {\n",
       "      background-color: #3B4455;\n",
       "      fill: #D2E3FC;\n",
       "    }\n",
       "\n",
       "    [theme=dark] .colab-df-convert:hover {\n",
       "      background-color: #434B5C;\n",
       "      box-shadow: 0px 1px 3px 1px rgba(0, 0, 0, 0.15);\n",
       "      filter: drop-shadow(0px 1px 2px rgba(0, 0, 0, 0.3));\n",
       "      fill: #FFFFFF;\n",
       "    }\n",
       "  </style>\n",
       "\n",
       "      <script>\n",
       "        const buttonEl =\n",
       "          document.querySelector('#df-b1aa37eb-f61d-418b-83e9-8ef4244af254 button.colab-df-convert');\n",
       "        buttonEl.style.display =\n",
       "          google.colab.kernel.accessAllowed ? 'block' : 'none';\n",
       "\n",
       "        async function convertToInteractive(key) {\n",
       "          const element = document.querySelector('#df-b1aa37eb-f61d-418b-83e9-8ef4244af254');\n",
       "          const dataTable =\n",
       "            await google.colab.kernel.invokeFunction('convertToInteractive',\n",
       "                                                     [key], {});\n",
       "          if (!dataTable) return;\n",
       "\n",
       "          const docLinkHtml = 'Like what you see? Visit the ' +\n",
       "            '<a target=\"_blank\" href=https://colab.research.google.com/notebooks/data_table.ipynb>data table notebook</a>'\n",
       "            + ' to learn more about interactive tables.';\n",
       "          element.innerHTML = '';\n",
       "          dataTable['output_type'] = 'display_data';\n",
       "          await google.colab.output.renderOutput(dataTable, element);\n",
       "          const docLink = document.createElement('div');\n",
       "          docLink.innerHTML = docLinkHtml;\n",
       "          element.appendChild(docLink);\n",
       "        }\n",
       "      </script>\n",
       "    </div>\n",
       "  </div>\n",
       "  "
      ],
      "text/plain": [
       "            asin  \\\n",
       "2360  B000LE0O74   \n",
       "2181  B0009GJBD2   \n",
       "3367  B01H0LP47U   \n",
       "3056  B010EJ6MSU   \n",
       "\n",
       "                                                                                                                                                                                                                                                                                                      description  \\\n",
       "2360  [<I>Selvedge</I> magazine offers fine textile photography, cutting edge reports on contemporary textile art, detailed profiles of internationally renowned artists, articles on ethnographic textiles, critical coverage of the fashion and design industry, news, book reviews, and information on exhi...   \n",
       "2181  [<I>Selvedge</I> magazine offers fine textile photography, cutting edge reports on contemporary textile art, detailed profiles of internationally renowned artists, articles on ethnographic textiles, critical coverage of the fashion and design industry, news, book reviews, and information on exhi...   \n",
       "3367  [<i>Women&#x2019;s Health</i> gives you the tools you need to get healthier, sexier, stronger, slimmer&#x2014;and stay that way, all year long! Every issue inspires you with fresh fitness secrets, mealtime makeovers, and beauty and fashion tips to bring out your inner confidence. You'll find 15-...   \n",
       "3056  [<i>Women&#x2019;s Health</i> gives you the tools you need to get healthier, sexier, stronger, slimmer&#x2014;and stay that way, all year long! Every issue inspires you with fresh fitness secrets, mealtime makeovers, and beauty and fashion tips to bring out your inner confidence. You'll find 15-...   \n",
       "\n",
       "                                                                                                    category  \\\n",
       "2360  [Magazine Subscriptions, Professional & Educational Journals, Professional & Trade, Arts, Photography]   \n",
       "2181  [Magazine Subscriptions, Professional & Educational Journals, Professional & Trade, Arts, Photography]   \n",
       "3367                     [Magazine Subscriptions, Sports, Recreation & Outdoors, Sports & Leisure, Training]   \n",
       "3056                     [Magazine Subscriptions, Sports, Recreation & Outdoors, Sports & Leisure, Training]   \n",
       "\n",
       "                                                                                                                                                                                                                                                                                                            desc2  \n",
       "2360  <I>Selvedge</I> magazine offers fine textile photography, cutting edge reports on contemporary textile art, detailed profiles of internationally renowned artists, articles on ethnographic textiles, critical coverage of the fashion and design industry, news, book reviews, and information on exhib...  \n",
       "2181  <I>Selvedge</I> magazine offers fine textile photography, cutting edge reports on contemporary textile art, detailed profiles of internationally renowned artists, articles on ethnographic textiles, critical coverage of the fashion and design industry, news, book reviews, and information on exhib...  \n",
       "3367  <i>Women&#x2019;s Health</i> gives you the tools you need to get healthier, sexier, stronger, slimmer&#x2014;and stay that way, all year long! Every issue inspires you with fresh fitness secrets, mealtime makeovers, and beauty and fashion tips to bring out your inner confidence. You'll find 15-m...  \n",
       "3056  <i>Women&#x2019;s Health</i> gives you the tools you need to get healthier, sexier, stronger, slimmer&#x2014;and stay that way, all year long! Every issue inspires you with fresh fitness secrets, mealtime makeovers, and beauty and fashion tips to bring out your inner confidence. You'll find 15-m...  "
      ]
     },
     "execution_count": 112,
     "metadata": {},
     "output_type": "execute_result"
    }
   ],
   "source": [
    "pd.set_option('display.max_colwidth',300)\n",
    "print(\"how many, duplicated descriptions: \",meta.duplicated(subset=['desc2']).sum())\n",
    "print(\"visual check:\")\n",
    "meta[meta.duplicated(subset=['desc2'], keep=False)].sort_values('desc2').head(4)"
   ]
  },
  {
   "cell_type": "code",
   "execution_count": 113,
   "metadata": {
    "colab": {
     "base_uri": "https://localhost:8080/"
    },
    "executionInfo": {
     "elapsed": 245,
     "status": "ok",
     "timestamp": 1653863698299,
     "user": {
      "displayName": "Bhadri Vaidhyanathan",
      "userId": "02716381227085486844"
     },
     "user_tz": 300
    },
    "id": "5_civ1NwhmzW",
    "outputId": "d4939a7d-4cd0-4a07-c460-4ff9b139ba3a"
   },
   "outputs": [
    {
     "name": "stdout",
     "output_type": "stream",
     "text": [
      "final shape: (1490, 4)\n"
     ]
    }
   ],
   "source": [
    "#drop duplicates desc\n",
    "meta.drop_duplicates(subset=['desc2'],inplace=True)\n",
    "print(\"final shape:\",meta.shape)"
   ]
  },
  {
   "cell_type": "code",
   "execution_count": 114,
   "metadata": {
    "executionInfo": {
     "elapsed": 2,
     "status": "ok",
     "timestamp": 1653863704668,
     "user": {
      "displayName": "Bhadri Vaidhyanathan",
      "userId": "02716381227085486844"
     },
     "user_tz": 300
    },
    "id": "ce695_6ArqXO"
   },
   "outputs": [],
   "source": [
    "#clean up the description text\n",
    "import re\n",
    "import string\n",
    "\n",
    "def clean_text(text):\n",
    "    \n",
    "    text = text.lower()\n",
    "    text = re.sub('<[^>]*>', ' ', text)  # removes all <> and text within\n",
    "    text = re.sub('[%s]' % re.escape(string.punctuation), '', text) # removes punctuations\n",
    "    text = re.sub('\\w*\\d\\w*', '', text) #removes numbers\n",
    "    text = re.sub('[‘’“”♪…]', '', text) #removes \"\" \n",
    "    text = \"\".join(c for c in text if ord(c)<128)  # remove non ascii characters\n",
    "            \n",
    "    return text"
   ]
  },
  {
   "cell_type": "code",
   "execution_count": 115,
   "metadata": {
    "executionInfo": {
     "elapsed": 238,
     "status": "ok",
     "timestamp": 1653863723352,
     "user": {
      "displayName": "Bhadri Vaidhyanathan",
      "userId": "02716381227085486844"
     },
     "user_tz": 300
    },
    "id": "f6fXhko5r-lv"
   },
   "outputs": [],
   "source": [
    "meta['clean_desc'] = meta['desc2'].apply(lambda x: clean_text(x))"
   ]
  },
  {
   "cell_type": "code",
   "execution_count": 116,
   "metadata": {
    "executionInfo": {
     "elapsed": 316,
     "status": "ok",
     "timestamp": 1653863728835,
     "user": {
      "displayName": "Bhadri Vaidhyanathan",
      "userId": "02716381227085486844"
     },
     "user_tz": 300
    },
    "id": "wtHI79OSiIKe"
   },
   "outputs": [],
   "source": [
    "#remove the first item in category list which is same for all\n",
    "meta['categ2'] = meta['category'].apply(lambda x: x[1:])"
   ]
  },
  {
   "cell_type": "code",
   "execution_count": 117,
   "metadata": {
    "executionInfo": {
     "elapsed": 234,
     "status": "ok",
     "timestamp": 1653863731101,
     "user": {
      "displayName": "Bhadri Vaidhyanathan",
      "userId": "02716381227085486844"
     },
     "user_tz": 300
    },
    "id": "NzaIp_aB0mzI"
   },
   "outputs": [],
   "source": [
    "#clean up categories to format needed for bag of words format\n",
    "import re\n",
    "import string\n",
    "\n",
    "def clean_categ(categ_list):\n",
    "  new_list = []\n",
    "  for category in categ_list:\n",
    "    text = category.lower()\n",
    "    text = re.sub(' & ', '', text)  #\" & \"\n",
    "    text = re.sub(' &amp; ', '', text) #\" &amp; \"\n",
    "    text = re.sub(' ', '', text) #removes space \" \"\n",
    "    text = re.sub(',', '', text) #removes comma\n",
    "    new_list.append(text)\n",
    "\n",
    "  return new_list"
   ]
  },
  {
   "cell_type": "code",
   "execution_count": 118,
   "metadata": {
    "executionInfo": {
     "elapsed": 255,
     "status": "ok",
     "timestamp": 1653863733143,
     "user": {
      "displayName": "Bhadri Vaidhyanathan",
      "userId": "02716381227085486844"
     },
     "user_tz": 300
    },
    "id": "0LavvCO014cY"
   },
   "outputs": [],
   "source": [
    "meta['clean_categ'] = meta['categ2'].apply(lambda x: clean_categ(x))"
   ]
  },
  {
   "cell_type": "code",
   "execution_count": 119,
   "metadata": {
    "colab": {
     "base_uri": "https://localhost:8080/",
     "height": 361
    },
    "executionInfo": {
     "elapsed": 253,
     "status": "ok",
     "timestamp": 1653863735316,
     "user": {
      "displayName": "Bhadri Vaidhyanathan",
      "userId": "02716381227085486844"
     },
     "user_tz": 300
    },
    "id": "fRqyBy-zZmBa",
    "outputId": "4fefc7b8-4b6e-44bf-eaf0-c1a47249d5e0"
   },
   "outputs": [
    {
     "name": "stdout",
     "output_type": "stream",
     "text": [
      "(1490, 7)\n"
     ]
    },
    {
     "data": {
      "text/html": [
       "\n",
       "  <div id=\"df-a0ebe7ce-4738-45a5-8c99-ead9c9c52784\">\n",
       "    <div class=\"colab-df-container\">\n",
       "      <div>\n",
       "<style scoped>\n",
       "    .dataframe tbody tr th:only-of-type {\n",
       "        vertical-align: middle;\n",
       "    }\n",
       "\n",
       "    .dataframe tbody tr th {\n",
       "        vertical-align: top;\n",
       "    }\n",
       "\n",
       "    .dataframe thead th {\n",
       "        text-align: right;\n",
       "    }\n",
       "</style>\n",
       "<table border=\"1\" class=\"dataframe\">\n",
       "  <thead>\n",
       "    <tr style=\"text-align: right;\">\n",
       "      <th></th>\n",
       "      <th>asin</th>\n",
       "      <th>description</th>\n",
       "      <th>category</th>\n",
       "      <th>desc2</th>\n",
       "      <th>clean_desc</th>\n",
       "      <th>categ2</th>\n",
       "      <th>clean_categ</th>\n",
       "    </tr>\n",
       "  </thead>\n",
       "  <tbody>\n",
       "    <tr>\n",
       "      <th>0</th>\n",
       "      <td>B00005N7NQ</td>\n",
       "      <td>[REASON is edited for people interested in economic, social, and international issues. Viewpoint...</td>\n",
       "      <td>[Magazine Subscriptions, Professional &amp; Educational Journals, Professional &amp; Trade, Humanities &amp;...</td>\n",
       "      <td>REASON is edited for people interested in economic, social, and international issues. Viewpoint ...</td>\n",
       "      <td>reason is edited for people interested in economic social and international issues viewpoint str...</td>\n",
       "      <td>[Professional &amp; Educational Journals, Professional &amp; Trade, Humanities &amp; Social Sciences, Econom...</td>\n",
       "      <td>[professionaleducationaljournals, professionaltrade, humanitiessocialsciences, economicseconomic...</td>\n",
       "    </tr>\n",
       "    <tr>\n",
       "      <th>1</th>\n",
       "      <td>B00005N7OC</td>\n",
       "      <td>[Written by and for musicians. Covers a variety of musical styles and includes transcriptions fr...</td>\n",
       "      <td>[Magazine Subscriptions, Arts, Music &amp;amp; Photography, Music]</td>\n",
       "      <td>Written by and for musicians. Covers a variety of musical styles and includes transcriptions fro...</td>\n",
       "      <td>written by and for musicians covers a variety of musical styles and includes transcriptions from...</td>\n",
       "      <td>[Arts, Music &amp;amp; Photography, Music]</td>\n",
       "      <td>[artsmusicphotography, music]</td>\n",
       "    </tr>\n",
       "    <tr>\n",
       "      <th>2</th>\n",
       "      <td>B00005N7OD</td>\n",
       "      <td>[Allure is the beauty expert. Every issue is full of celebrity tips and insider secrets from the...</td>\n",
       "      <td>[Magazine Subscriptions, Fashion &amp;amp; Style, Women]</td>\n",
       "      <td>Allure is the beauty expert. Every issue is full of celebrity tips and insider secrets from the ...</td>\n",
       "      <td>allure is the beauty expert every issue is full of celebrity tips and insider secrets from the p...</td>\n",
       "      <td>[Fashion &amp;amp; Style, Women]</td>\n",
       "      <td>[fashionstyle, women]</td>\n",
       "    </tr>\n",
       "  </tbody>\n",
       "</table>\n",
       "</div>\n",
       "      <button class=\"colab-df-convert\" onclick=\"convertToInteractive('df-a0ebe7ce-4738-45a5-8c99-ead9c9c52784')\"\n",
       "              title=\"Convert this dataframe to an interactive table.\"\n",
       "              style=\"display:none;\">\n",
       "        \n",
       "  <svg xmlns=\"http://www.w3.org/2000/svg\" height=\"24px\"viewBox=\"0 0 24 24\"\n",
       "       width=\"24px\">\n",
       "    <path d=\"M0 0h24v24H0V0z\" fill=\"none\"/>\n",
       "    <path d=\"M18.56 5.44l.94 2.06.94-2.06 2.06-.94-2.06-.94-.94-2.06-.94 2.06-2.06.94zm-11 1L8.5 8.5l.94-2.06 2.06-.94-2.06-.94L8.5 2.5l-.94 2.06-2.06.94zm10 10l.94 2.06.94-2.06 2.06-.94-2.06-.94-.94-2.06-.94 2.06-2.06.94z\"/><path d=\"M17.41 7.96l-1.37-1.37c-.4-.4-.92-.59-1.43-.59-.52 0-1.04.2-1.43.59L10.3 9.45l-7.72 7.72c-.78.78-.78 2.05 0 2.83L4 21.41c.39.39.9.59 1.41.59.51 0 1.02-.2 1.41-.59l7.78-7.78 2.81-2.81c.8-.78.8-2.07 0-2.86zM5.41 20L4 18.59l7.72-7.72 1.47 1.35L5.41 20z\"/>\n",
       "  </svg>\n",
       "      </button>\n",
       "      \n",
       "  <style>\n",
       "    .colab-df-container {\n",
       "      display:flex;\n",
       "      flex-wrap:wrap;\n",
       "      gap: 12px;\n",
       "    }\n",
       "\n",
       "    .colab-df-convert {\n",
       "      background-color: #E8F0FE;\n",
       "      border: none;\n",
       "      border-radius: 50%;\n",
       "      cursor: pointer;\n",
       "      display: none;\n",
       "      fill: #1967D2;\n",
       "      height: 32px;\n",
       "      padding: 0 0 0 0;\n",
       "      width: 32px;\n",
       "    }\n",
       "\n",
       "    .colab-df-convert:hover {\n",
       "      background-color: #E2EBFA;\n",
       "      box-shadow: 0px 1px 2px rgba(60, 64, 67, 0.3), 0px 1px 3px 1px rgba(60, 64, 67, 0.15);\n",
       "      fill: #174EA6;\n",
       "    }\n",
       "\n",
       "    [theme=dark] .colab-df-convert {\n",
       "      background-color: #3B4455;\n",
       "      fill: #D2E3FC;\n",
       "    }\n",
       "\n",
       "    [theme=dark] .colab-df-convert:hover {\n",
       "      background-color: #434B5C;\n",
       "      box-shadow: 0px 1px 3px 1px rgba(0, 0, 0, 0.15);\n",
       "      filter: drop-shadow(0px 1px 2px rgba(0, 0, 0, 0.3));\n",
       "      fill: #FFFFFF;\n",
       "    }\n",
       "  </style>\n",
       "\n",
       "      <script>\n",
       "        const buttonEl =\n",
       "          document.querySelector('#df-a0ebe7ce-4738-45a5-8c99-ead9c9c52784 button.colab-df-convert');\n",
       "        buttonEl.style.display =\n",
       "          google.colab.kernel.accessAllowed ? 'block' : 'none';\n",
       "\n",
       "        async function convertToInteractive(key) {\n",
       "          const element = document.querySelector('#df-a0ebe7ce-4738-45a5-8c99-ead9c9c52784');\n",
       "          const dataTable =\n",
       "            await google.colab.kernel.invokeFunction('convertToInteractive',\n",
       "                                                     [key], {});\n",
       "          if (!dataTable) return;\n",
       "\n",
       "          const docLinkHtml = 'Like what you see? Visit the ' +\n",
       "            '<a target=\"_blank\" href=https://colab.research.google.com/notebooks/data_table.ipynb>data table notebook</a>'\n",
       "            + ' to learn more about interactive tables.';\n",
       "          element.innerHTML = '';\n",
       "          dataTable['output_type'] = 'display_data';\n",
       "          await google.colab.output.renderOutput(dataTable, element);\n",
       "          const docLink = document.createElement('div');\n",
       "          docLink.innerHTML = docLinkHtml;\n",
       "          element.appendChild(docLink);\n",
       "        }\n",
       "      </script>\n",
       "    </div>\n",
       "  </div>\n",
       "  "
      ],
      "text/plain": [
       "         asin  \\\n",
       "0  B00005N7NQ   \n",
       "1  B00005N7OC   \n",
       "2  B00005N7OD   \n",
       "\n",
       "                                                                                           description  \\\n",
       "0  [REASON is edited for people interested in economic, social, and international issues. Viewpoint...   \n",
       "1  [Written by and for musicians. Covers a variety of musical styles and includes transcriptions fr...   \n",
       "2  [Allure is the beauty expert. Every issue is full of celebrity tips and insider secrets from the...   \n",
       "\n",
       "                                                                                              category  \\\n",
       "0  [Magazine Subscriptions, Professional & Educational Journals, Professional & Trade, Humanities &...   \n",
       "1                                       [Magazine Subscriptions, Arts, Music &amp; Photography, Music]   \n",
       "2                                                 [Magazine Subscriptions, Fashion &amp; Style, Women]   \n",
       "\n",
       "                                                                                                 desc2  \\\n",
       "0  REASON is edited for people interested in economic, social, and international issues. Viewpoint ...   \n",
       "1  Written by and for musicians. Covers a variety of musical styles and includes transcriptions fro...   \n",
       "2  Allure is the beauty expert. Every issue is full of celebrity tips and insider secrets from the ...   \n",
       "\n",
       "                                                                                            clean_desc  \\\n",
       "0  reason is edited for people interested in economic social and international issues viewpoint str...   \n",
       "1  written by and for musicians covers a variety of musical styles and includes transcriptions from...   \n",
       "2  allure is the beauty expert every issue is full of celebrity tips and insider secrets from the p...   \n",
       "\n",
       "                                                                                                categ2  \\\n",
       "0  [Professional & Educational Journals, Professional & Trade, Humanities & Social Sciences, Econom...   \n",
       "1                                                               [Arts, Music &amp; Photography, Music]   \n",
       "2                                                                         [Fashion &amp; Style, Women]   \n",
       "\n",
       "                                                                                           clean_categ  \n",
       "0  [professionaleducationaljournals, professionaltrade, humanitiessocialsciences, economicseconomic...  \n",
       "1                                                                        [artsmusicphotography, music]  \n",
       "2                                                                                [fashionstyle, women]  "
      ]
     },
     "execution_count": 119,
     "metadata": {},
     "output_type": "execute_result"
    }
   ],
   "source": [
    "pd.set_option('display.max_colwidth',100)\n",
    "print(meta.shape)\n",
    "meta.head(3)"
   ]
  },
  {
   "cell_type": "markdown",
   "metadata": {
    "id": "VeKHPrNm9gQj"
   },
   "source": [
    "### Key word extraction with Rake"
   ]
  },
  {
   "cell_type": "code",
   "execution_count": 120,
   "metadata": {
    "executionInfo": {
     "elapsed": 628,
     "status": "ok",
     "timestamp": 1653863803850,
     "user": {
      "displayName": "Bhadri Vaidhyanathan",
      "userId": "02716381227085486844"
     },
     "user_tz": 300
    },
    "id": "l1UXuLAUZmBr"
   },
   "outputs": [],
   "source": [
    "# from rake_nltk import Rake\n",
    "# import nltk\n",
    "# nltk.download('stopwords')\n",
    "# nltk.download('punkt')\n",
    "\n",
    "\n",
    "#extract keywords from description\n",
    "meta['key_words'] = ''\n",
    "r = Rake()\n",
    "for index, row in meta.iterrows():\n",
    "    r.extract_keywords_from_text(row['clean_desc'])\n",
    "    key_words_dict_scores = r.get_word_degrees()\n",
    "    row['key_words'] = list(key_words_dict_scores.keys())"
   ]
  },
  {
   "cell_type": "code",
   "execution_count": 121,
   "metadata": {
    "executionInfo": {
     "elapsed": 796,
     "status": "ok",
     "timestamp": 1653863827083,
     "user": {
      "displayName": "Bhadri Vaidhyanathan",
      "userId": "02716381227085486844"
     },
     "user_tz": 300
    },
    "id": "IeHpOjRlvcPd"
   },
   "outputs": [],
   "source": [
    "meta['bag_of_words'] = ''\n",
    "columns = ['clean_categ', 'key_words']\n",
    "for index, row in meta.iterrows():\n",
    "  words = ''\n",
    "  for col in columns:\n",
    "      words += ' '.join(row[col]) + ' '\n",
    "  row['bag_of_words'] = words"
   ]
  },
  {
   "cell_type": "code",
   "execution_count": 122,
   "metadata": {
    "colab": {
     "base_uri": "https://localhost:8080/",
     "height": 382
    },
    "executionInfo": {
     "elapsed": 251,
     "status": "ok",
     "timestamp": 1653863830138,
     "user": {
      "displayName": "Bhadri Vaidhyanathan",
      "userId": "02716381227085486844"
     },
     "user_tz": 300
    },
    "id": "uKrg7yLwZmBr",
    "outputId": "89b3ecd5-3dff-4f67-b729-20418ea2976d"
   },
   "outputs": [
    {
     "data": {
      "text/html": [
       "\n",
       "  <div id=\"df-f39f6b5e-6f3a-4675-a282-2520a4cd6e51\">\n",
       "    <div class=\"colab-df-container\">\n",
       "      <div>\n",
       "<style scoped>\n",
       "    .dataframe tbody tr th:only-of-type {\n",
       "        vertical-align: middle;\n",
       "    }\n",
       "\n",
       "    .dataframe tbody tr th {\n",
       "        vertical-align: top;\n",
       "    }\n",
       "\n",
       "    .dataframe thead th {\n",
       "        text-align: right;\n",
       "    }\n",
       "</style>\n",
       "<table border=\"1\" class=\"dataframe\">\n",
       "  <thead>\n",
       "    <tr style=\"text-align: right;\">\n",
       "      <th></th>\n",
       "      <th>asin</th>\n",
       "      <th>description</th>\n",
       "      <th>category</th>\n",
       "      <th>desc2</th>\n",
       "      <th>clean_desc</th>\n",
       "      <th>categ2</th>\n",
       "      <th>clean_categ</th>\n",
       "      <th>key_words</th>\n",
       "      <th>bag_of_words</th>\n",
       "    </tr>\n",
       "  </thead>\n",
       "  <tbody>\n",
       "    <tr>\n",
       "      <th>0</th>\n",
       "      <td>B00005N7NQ</td>\n",
       "      <td>[REASON is edited for people interested in economic, social, and international issues. Viewpoint...</td>\n",
       "      <td>[Magazine Subscriptions, Professional &amp; Educational Journals, Professional &amp; Trade, Humanities &amp;...</td>\n",
       "      <td>REASON is edited for people interested in economic, social, and international issues. Viewpoint ...</td>\n",
       "      <td>reason is edited for people interested in economic social and international issues viewpoint str...</td>\n",
       "      <td>[Professional &amp; Educational Journals, Professional &amp; Trade, Humanities &amp; Social Sciences, Econom...</td>\n",
       "      <td>[professionaleducationaljournals, professionaltrade, humanitiessocialsciences, economicseconomic...</td>\n",
       "      <td>[reason, edited, people, interested, economic, social, international, issues, viewpoint, stresse...</td>\n",
       "      <td>professionaleducationaljournals professionaltrade humanitiessocialsciences economicseconomictheo...</td>\n",
       "    </tr>\n",
       "    <tr>\n",
       "      <th>1</th>\n",
       "      <td>B00005N7OC</td>\n",
       "      <td>[Written by and for musicians. Covers a variety of musical styles and includes transcriptions fr...</td>\n",
       "      <td>[Magazine Subscriptions, Arts, Music &amp;amp; Photography, Music]</td>\n",
       "      <td>Written by and for musicians. Covers a variety of musical styles and includes transcriptions fro...</td>\n",
       "      <td>written by and for musicians covers a variety of musical styles and includes transcriptions from...</td>\n",
       "      <td>[Arts, Music &amp;amp; Photography, Music]</td>\n",
       "      <td>[artsmusicphotography, music]</td>\n",
       "      <td>[written, musicians, covers, variety, musical, styles, includes, transcriptions, recordings, sol...</td>\n",
       "      <td>artsmusicphotography music written musicians covers variety musical styles includes transcriptio...</td>\n",
       "    </tr>\n",
       "  </tbody>\n",
       "</table>\n",
       "</div>\n",
       "      <button class=\"colab-df-convert\" onclick=\"convertToInteractive('df-f39f6b5e-6f3a-4675-a282-2520a4cd6e51')\"\n",
       "              title=\"Convert this dataframe to an interactive table.\"\n",
       "              style=\"display:none;\">\n",
       "        \n",
       "  <svg xmlns=\"http://www.w3.org/2000/svg\" height=\"24px\"viewBox=\"0 0 24 24\"\n",
       "       width=\"24px\">\n",
       "    <path d=\"M0 0h24v24H0V0z\" fill=\"none\"/>\n",
       "    <path d=\"M18.56 5.44l.94 2.06.94-2.06 2.06-.94-2.06-.94-.94-2.06-.94 2.06-2.06.94zm-11 1L8.5 8.5l.94-2.06 2.06-.94-2.06-.94L8.5 2.5l-.94 2.06-2.06.94zm10 10l.94 2.06.94-2.06 2.06-.94-2.06-.94-.94-2.06-.94 2.06-2.06.94z\"/><path d=\"M17.41 7.96l-1.37-1.37c-.4-.4-.92-.59-1.43-.59-.52 0-1.04.2-1.43.59L10.3 9.45l-7.72 7.72c-.78.78-.78 2.05 0 2.83L4 21.41c.39.39.9.59 1.41.59.51 0 1.02-.2 1.41-.59l7.78-7.78 2.81-2.81c.8-.78.8-2.07 0-2.86zM5.41 20L4 18.59l7.72-7.72 1.47 1.35L5.41 20z\"/>\n",
       "  </svg>\n",
       "      </button>\n",
       "      \n",
       "  <style>\n",
       "    .colab-df-container {\n",
       "      display:flex;\n",
       "      flex-wrap:wrap;\n",
       "      gap: 12px;\n",
       "    }\n",
       "\n",
       "    .colab-df-convert {\n",
       "      background-color: #E8F0FE;\n",
       "      border: none;\n",
       "      border-radius: 50%;\n",
       "      cursor: pointer;\n",
       "      display: none;\n",
       "      fill: #1967D2;\n",
       "      height: 32px;\n",
       "      padding: 0 0 0 0;\n",
       "      width: 32px;\n",
       "    }\n",
       "\n",
       "    .colab-df-convert:hover {\n",
       "      background-color: #E2EBFA;\n",
       "      box-shadow: 0px 1px 2px rgba(60, 64, 67, 0.3), 0px 1px 3px 1px rgba(60, 64, 67, 0.15);\n",
       "      fill: #174EA6;\n",
       "    }\n",
       "\n",
       "    [theme=dark] .colab-df-convert {\n",
       "      background-color: #3B4455;\n",
       "      fill: #D2E3FC;\n",
       "    }\n",
       "\n",
       "    [theme=dark] .colab-df-convert:hover {\n",
       "      background-color: #434B5C;\n",
       "      box-shadow: 0px 1px 3px 1px rgba(0, 0, 0, 0.15);\n",
       "      filter: drop-shadow(0px 1px 2px rgba(0, 0, 0, 0.3));\n",
       "      fill: #FFFFFF;\n",
       "    }\n",
       "  </style>\n",
       "\n",
       "      <script>\n",
       "        const buttonEl =\n",
       "          document.querySelector('#df-f39f6b5e-6f3a-4675-a282-2520a4cd6e51 button.colab-df-convert');\n",
       "        buttonEl.style.display =\n",
       "          google.colab.kernel.accessAllowed ? 'block' : 'none';\n",
       "\n",
       "        async function convertToInteractive(key) {\n",
       "          const element = document.querySelector('#df-f39f6b5e-6f3a-4675-a282-2520a4cd6e51');\n",
       "          const dataTable =\n",
       "            await google.colab.kernel.invokeFunction('convertToInteractive',\n",
       "                                                     [key], {});\n",
       "          if (!dataTable) return;\n",
       "\n",
       "          const docLinkHtml = 'Like what you see? Visit the ' +\n",
       "            '<a target=\"_blank\" href=https://colab.research.google.com/notebooks/data_table.ipynb>data table notebook</a>'\n",
       "            + ' to learn more about interactive tables.';\n",
       "          element.innerHTML = '';\n",
       "          dataTable['output_type'] = 'display_data';\n",
       "          await google.colab.output.renderOutput(dataTable, element);\n",
       "          const docLink = document.createElement('div');\n",
       "          docLink.innerHTML = docLinkHtml;\n",
       "          element.appendChild(docLink);\n",
       "        }\n",
       "      </script>\n",
       "    </div>\n",
       "  </div>\n",
       "  "
      ],
      "text/plain": [
       "         asin  \\\n",
       "0  B00005N7NQ   \n",
       "1  B00005N7OC   \n",
       "\n",
       "                                                                                           description  \\\n",
       "0  [REASON is edited for people interested in economic, social, and international issues. Viewpoint...   \n",
       "1  [Written by and for musicians. Covers a variety of musical styles and includes transcriptions fr...   \n",
       "\n",
       "                                                                                              category  \\\n",
       "0  [Magazine Subscriptions, Professional & Educational Journals, Professional & Trade, Humanities &...   \n",
       "1                                       [Magazine Subscriptions, Arts, Music &amp; Photography, Music]   \n",
       "\n",
       "                                                                                                 desc2  \\\n",
       "0  REASON is edited for people interested in economic, social, and international issues. Viewpoint ...   \n",
       "1  Written by and for musicians. Covers a variety of musical styles and includes transcriptions fro...   \n",
       "\n",
       "                                                                                            clean_desc  \\\n",
       "0  reason is edited for people interested in economic social and international issues viewpoint str...   \n",
       "1  written by and for musicians covers a variety of musical styles and includes transcriptions from...   \n",
       "\n",
       "                                                                                                categ2  \\\n",
       "0  [Professional & Educational Journals, Professional & Trade, Humanities & Social Sciences, Econom...   \n",
       "1                                                               [Arts, Music &amp; Photography, Music]   \n",
       "\n",
       "                                                                                           clean_categ  \\\n",
       "0  [professionaleducationaljournals, professionaltrade, humanitiessocialsciences, economicseconomic...   \n",
       "1                                                                        [artsmusicphotography, music]   \n",
       "\n",
       "                                                                                             key_words  \\\n",
       "0  [reason, edited, people, interested, economic, social, international, issues, viewpoint, stresse...   \n",
       "1  [written, musicians, covers, variety, musical, styles, includes, transcriptions, recordings, sol...   \n",
       "\n",
       "                                                                                          bag_of_words  \n",
       "0  professionaleducationaljournals professionaltrade humanitiessocialsciences economicseconomictheo...  \n",
       "1  artsmusicphotography music written musicians covers variety musical styles includes transcriptio...  "
      ]
     },
     "execution_count": 122,
     "metadata": {},
     "output_type": "execute_result"
    }
   ],
   "source": [
    "meta.head(2)"
   ]
  },
  {
   "cell_type": "code",
   "execution_count": 62,
   "metadata": {
    "executionInfo": {
     "elapsed": 1273,
     "status": "ok",
     "timestamp": 1653862158126,
     "user": {
      "displayName": "Bhadri Vaidhyanathan",
      "userId": "02716381227085486844"
     },
     "user_tz": 300
    },
    "id": "N7k_oG0LZmBr"
   },
   "outputs": [],
   "source": [
    "# meta.to_excel('/content/drive/MyDrive/Machine Learning- Group Project/data/meta_contbased_test5.xlsx')"
   ]
  },
  {
   "cell_type": "markdown",
   "metadata": {
    "id": "wDFJdmQLZmBl"
   },
   "source": [
    "# Content-Based Recommendation System"
   ]
  },
  {
   "cell_type": "code",
   "execution_count": 123,
   "metadata": {
    "colab": {
     "base_uri": "https://localhost:8080/",
     "height": 161
    },
    "executionInfo": {
     "elapsed": 242,
     "status": "ok",
     "timestamp": 1653863857383,
     "user": {
      "displayName": "Bhadri Vaidhyanathan",
      "userId": "02716381227085486844"
     },
     "user_tz": 300
    },
    "id": "RyixHvN5ZmBs",
    "outputId": "367cf122-146f-4a34-93ca-c87cdde76d55"
   },
   "outputs": [
    {
     "name": "stdout",
     "output_type": "stream",
     "text": [
      "(1490, 2)\n"
     ]
    },
    {
     "data": {
      "text/html": [
       "\n",
       "  <div id=\"df-3b06bfe7-1a31-4d3c-84da-7683133113f3\">\n",
       "    <div class=\"colab-df-container\">\n",
       "      <div>\n",
       "<style scoped>\n",
       "    .dataframe tbody tr th:only-of-type {\n",
       "        vertical-align: middle;\n",
       "    }\n",
       "\n",
       "    .dataframe tbody tr th {\n",
       "        vertical-align: top;\n",
       "    }\n",
       "\n",
       "    .dataframe thead th {\n",
       "        text-align: right;\n",
       "    }\n",
       "</style>\n",
       "<table border=\"1\" class=\"dataframe\">\n",
       "  <thead>\n",
       "    <tr style=\"text-align: right;\">\n",
       "      <th></th>\n",
       "      <th>asin</th>\n",
       "      <th>bag_of_words</th>\n",
       "    </tr>\n",
       "  </thead>\n",
       "  <tbody>\n",
       "    <tr>\n",
       "      <th>0</th>\n",
       "      <td>B00005N7NQ</td>\n",
       "      <td>professionaleducationaljournals professionaltrade humanitiessocialsciences economicseconomictheo...</td>\n",
       "    </tr>\n",
       "    <tr>\n",
       "      <th>1</th>\n",
       "      <td>B00005N7OC</td>\n",
       "      <td>artsmusicphotography music written musicians covers variety musical styles includes transcriptio...</td>\n",
       "    </tr>\n",
       "    <tr>\n",
       "      <th>2</th>\n",
       "      <td>B00005N7OD</td>\n",
       "      <td>fashionstyle women allure beauty expert every issue full celebrity tips insider secrets pros lik...</td>\n",
       "    </tr>\n",
       "  </tbody>\n",
       "</table>\n",
       "</div>\n",
       "      <button class=\"colab-df-convert\" onclick=\"convertToInteractive('df-3b06bfe7-1a31-4d3c-84da-7683133113f3')\"\n",
       "              title=\"Convert this dataframe to an interactive table.\"\n",
       "              style=\"display:none;\">\n",
       "        \n",
       "  <svg xmlns=\"http://www.w3.org/2000/svg\" height=\"24px\"viewBox=\"0 0 24 24\"\n",
       "       width=\"24px\">\n",
       "    <path d=\"M0 0h24v24H0V0z\" fill=\"none\"/>\n",
       "    <path d=\"M18.56 5.44l.94 2.06.94-2.06 2.06-.94-2.06-.94-.94-2.06-.94 2.06-2.06.94zm-11 1L8.5 8.5l.94-2.06 2.06-.94-2.06-.94L8.5 2.5l-.94 2.06-2.06.94zm10 10l.94 2.06.94-2.06 2.06-.94-2.06-.94-.94-2.06-.94 2.06-2.06.94z\"/><path d=\"M17.41 7.96l-1.37-1.37c-.4-.4-.92-.59-1.43-.59-.52 0-1.04.2-1.43.59L10.3 9.45l-7.72 7.72c-.78.78-.78 2.05 0 2.83L4 21.41c.39.39.9.59 1.41.59.51 0 1.02-.2 1.41-.59l7.78-7.78 2.81-2.81c.8-.78.8-2.07 0-2.86zM5.41 20L4 18.59l7.72-7.72 1.47 1.35L5.41 20z\"/>\n",
       "  </svg>\n",
       "      </button>\n",
       "      \n",
       "  <style>\n",
       "    .colab-df-container {\n",
       "      display:flex;\n",
       "      flex-wrap:wrap;\n",
       "      gap: 12px;\n",
       "    }\n",
       "\n",
       "    .colab-df-convert {\n",
       "      background-color: #E8F0FE;\n",
       "      border: none;\n",
       "      border-radius: 50%;\n",
       "      cursor: pointer;\n",
       "      display: none;\n",
       "      fill: #1967D2;\n",
       "      height: 32px;\n",
       "      padding: 0 0 0 0;\n",
       "      width: 32px;\n",
       "    }\n",
       "\n",
       "    .colab-df-convert:hover {\n",
       "      background-color: #E2EBFA;\n",
       "      box-shadow: 0px 1px 2px rgba(60, 64, 67, 0.3), 0px 1px 3px 1px rgba(60, 64, 67, 0.15);\n",
       "      fill: #174EA6;\n",
       "    }\n",
       "\n",
       "    [theme=dark] .colab-df-convert {\n",
       "      background-color: #3B4455;\n",
       "      fill: #D2E3FC;\n",
       "    }\n",
       "\n",
       "    [theme=dark] .colab-df-convert:hover {\n",
       "      background-color: #434B5C;\n",
       "      box-shadow: 0px 1px 3px 1px rgba(0, 0, 0, 0.15);\n",
       "      filter: drop-shadow(0px 1px 2px rgba(0, 0, 0, 0.3));\n",
       "      fill: #FFFFFF;\n",
       "    }\n",
       "  </style>\n",
       "\n",
       "      <script>\n",
       "        const buttonEl =\n",
       "          document.querySelector('#df-3b06bfe7-1a31-4d3c-84da-7683133113f3 button.colab-df-convert');\n",
       "        buttonEl.style.display =\n",
       "          google.colab.kernel.accessAllowed ? 'block' : 'none';\n",
       "\n",
       "        async function convertToInteractive(key) {\n",
       "          const element = document.querySelector('#df-3b06bfe7-1a31-4d3c-84da-7683133113f3');\n",
       "          const dataTable =\n",
       "            await google.colab.kernel.invokeFunction('convertToInteractive',\n",
       "                                                     [key], {});\n",
       "          if (!dataTable) return;\n",
       "\n",
       "          const docLinkHtml = 'Like what you see? Visit the ' +\n",
       "            '<a target=\"_blank\" href=https://colab.research.google.com/notebooks/data_table.ipynb>data table notebook</a>'\n",
       "            + ' to learn more about interactive tables.';\n",
       "          element.innerHTML = '';\n",
       "          dataTable['output_type'] = 'display_data';\n",
       "          await google.colab.output.renderOutput(dataTable, element);\n",
       "          const docLink = document.createElement('div');\n",
       "          docLink.innerHTML = docLinkHtml;\n",
       "          element.appendChild(docLink);\n",
       "        }\n",
       "      </script>\n",
       "    </div>\n",
       "  </div>\n",
       "  "
      ],
      "text/plain": [
       "         asin  \\\n",
       "0  B00005N7NQ   \n",
       "1  B00005N7OC   \n",
       "2  B00005N7OD   \n",
       "\n",
       "                                                                                          bag_of_words  \n",
       "0  professionaleducationaljournals professionaltrade humanitiessocialsciences economicseconomictheo...  \n",
       "1  artsmusicphotography music written musicians covers variety musical styles includes transcriptio...  \n",
       "2  fashionstyle women allure beauty expert every issue full celebrity tips insider secrets pros lik...  "
      ]
     },
     "execution_count": 123,
     "metadata": {},
     "output_type": "execute_result"
    }
   ],
   "source": [
    "cb_df = meta[['asin','bag_of_words']]\n",
    "print(cb_df.shape)\n",
    "cb_df.head(3)"
   ]
  },
  {
   "cell_type": "code",
   "execution_count": 125,
   "metadata": {
    "colab": {
     "base_uri": "https://localhost:8080/"
    },
    "executionInfo": {
     "elapsed": 532,
     "status": "ok",
     "timestamp": 1653863902393,
     "user": {
      "displayName": "Bhadri Vaidhyanathan",
      "userId": "02716381227085486844"
     },
     "user_tz": 300
    },
    "id": "k5QOmuhP4XKO",
    "outputId": "f0db0e9d-5684-4a0f-86c3-e3e489a74ace"
   },
   "outputs": [
    {
     "name": "stdout",
     "output_type": "stream",
     "text": [
      "[[1.         0.         0.02787473 ... 0.         0.         0.05847053]\n",
      " [0.         1.         0.09304842 ... 0.03367175 0.05241424 0.        ]\n",
      " [0.02787473 0.09304842 1.         ... 0.21931723 0.03413944 0.06356417]\n",
      " ...\n",
      " [0.         0.03367175 0.21931723 ... 1.         0.02470831 0.32203059]\n",
      " [0.         0.05241424 0.03413944 ... 0.02470831 1.         0.        ]\n",
      " [0.05847053 0.         0.06356417 ... 0.32203059 0.         1.        ]]\n"
     ]
    }
   ],
   "source": [
    "from sklearn.metrics.pairwise import cosine_similarity\n",
    "from sklearn.feature_extraction.text import CountVectorizer\n",
    "\n",
    "cv = CountVectorizer()\n",
    "count_matrix = cv.fit_transform(cb_df['bag_of_words'])\n",
    "cosine_sim_mtx = cosine_similarity(count_matrix, count_matrix)\n",
    "print(cosine_sim_mtx)"
   ]
  },
  {
   "cell_type": "code",
   "execution_count": 126,
   "metadata": {
    "executionInfo": {
     "elapsed": 229,
     "status": "ok",
     "timestamp": 1653863948745,
     "user": {
      "displayName": "Bhadri Vaidhyanathan",
      "userId": "02716381227085486844"
     },
     "user_tz": 300
    },
    "id": "QgmP3wAf4p7N"
   },
   "outputs": [],
   "source": [
    "#index of the product asin for reference\n",
    "asin_indices = pd.Series(cb_df['asin'])"
   ]
  },
  {
   "cell_type": "code",
   "execution_count": 162,
   "metadata": {
    "executionInfo": {
     "elapsed": 232,
     "status": "ok",
     "timestamp": 1653866299589,
     "user": {
      "displayName": "Bhadri Vaidhyanathan",
      "userId": "02716381227085486844"
     },
     "user_tz": 300
    },
    "id": "DTJGsUhQ5CAt"
   },
   "outputs": [],
   "source": [
    "def recommend(item, cosine_sim = cosine_sim):\n",
    "    recommended_magazines = []\n",
    "    idx = asin_indices[asin_indices == item].index[0]\n",
    "    score_series = pd.Series(cosine_sim[idx]).sort_values(ascending = False)\n",
    "    top_indices = list(score_series.iloc[1:11].index)\n",
    "    \n",
    "    for i in top_indices:\n",
    "        recommended_magazines.append(list(cb_df['asin'])[i])\n",
    "        \n",
    "    return recommended_magazines"
   ]
  },
  {
   "cell_type": "markdown",
   "metadata": {
    "id": "MW_hLYUYIUdW"
   },
   "source": [
    "#### Note: magazine should be from the cb_df list of magazines"
   ]
  },
  {
   "cell_type": "code",
   "execution_count": 129,
   "metadata": {
    "colab": {
     "base_uri": "https://localhost:8080/"
    },
    "executionInfo": {
     "elapsed": 232,
     "status": "ok",
     "timestamp": 1653864441876,
     "user": {
      "displayName": "Bhadri Vaidhyanathan",
      "userId": "02716381227085486844"
     },
     "user_tz": 300
    },
    "id": "tyuZ9aGU5POl",
    "outputId": "dba3608c-4b6f-48e8-b8d7-c5ef9f385c77"
   },
   "outputs": [
    {
     "data": {
      "text/plain": [
       "['B01H6WOM4O',\n",
       " 'B00005N7QN',\n",
       " 'B000K0YFVU',\n",
       " 'B00JARAU4A',\n",
       " 'B00007M2OH',\n",
       " 'B000EU1H3U',\n",
       " 'B0007INI2C',\n",
       " 'B00NI7UQDI',\n",
       " 'B00007AZEO',\n",
       " 'B019INBTAE']"
      ]
     },
     "execution_count": 129,
     "metadata": {},
     "output_type": "execute_result"
    }
   ],
   "source": [
    "#recommending top 10 magazines - Content Based\n",
    "for_magazine = 'B00005N7OD'\n",
    "reco_list = recommend(for_magazine)"
   ]
  },
  {
   "cell_type": "code",
   "execution_count": 133,
   "metadata": {
    "colab": {
     "base_uri": "https://localhost:8080/"
    },
    "executionInfo": {
     "elapsed": 3,
     "status": "ok",
     "timestamp": 1653864595412,
     "user": {
      "displayName": "Bhadri Vaidhyanathan",
      "userId": "02716381227085486844"
     },
     "user_tz": 300
    },
    "id": "rr0bsweD-qLi",
    "outputId": "6783b50b-02d1-40b0-f0e9-2e217d73b6e7"
   },
   "outputs": [
    {
     "data": {
      "text/plain": [
       "['B00005N7OD',\n",
       " 'B01H6WOM4O',\n",
       " 'B00005N7QN',\n",
       " 'B000K0YFVU',\n",
       " 'B00JARAU4A',\n",
       " 'B00007M2OH',\n",
       " 'B000EU1H3U',\n",
       " 'B0007INI2C',\n",
       " 'B00NI7UQDI',\n",
       " 'B00007AZEO',\n",
       " 'B019INBTAE']"
      ]
     },
     "execution_count": 133,
     "metadata": {},
     "output_type": "execute_result"
    }
   ],
   "source": [
    "reco_list.insert(0,for_magazine)\n",
    "reco_list"
   ]
  },
  {
   "cell_type": "code",
   "execution_count": 145,
   "metadata": {
    "colab": {
     "base_uri": "https://localhost:8080/",
     "height": 206
    },
    "executionInfo": {
     "elapsed": 239,
     "status": "ok",
     "timestamp": 1653865537419,
     "user": {
      "displayName": "Bhadri Vaidhyanathan",
      "userId": "02716381227085486844"
     },
     "user_tz": 300
    },
    "id": "WoAZ-gtEAx2w",
    "outputId": "0babe32c-56ca-4571-bb04-055c3f2597cd"
   },
   "outputs": [
    {
     "data": {
      "text/html": [
       "\n",
       "  <div id=\"df-64822f17-1abd-4595-b269-cac8c779779e\">\n",
       "    <div class=\"colab-df-container\">\n",
       "      <div>\n",
       "<style scoped>\n",
       "    .dataframe tbody tr th:only-of-type {\n",
       "        vertical-align: middle;\n",
       "    }\n",
       "\n",
       "    .dataframe tbody tr th {\n",
       "        vertical-align: top;\n",
       "    }\n",
       "\n",
       "    .dataframe thead th {\n",
       "        text-align: right;\n",
       "    }\n",
       "</style>\n",
       "<table border=\"1\" class=\"dataframe\">\n",
       "  <thead>\n",
       "    <tr style=\"text-align: right;\">\n",
       "      <th></th>\n",
       "      <th>asin</th>\n",
       "      <th>description</th>\n",
       "      <th>clean_categ</th>\n",
       "    </tr>\n",
       "  </thead>\n",
       "  <tbody>\n",
       "    <tr>\n",
       "      <th>2</th>\n",
       "      <td>B00005N7OD</td>\n",
       "      <td>[Allure is the beauty expe...</td>\n",
       "      <td>[fashionstyle, women]</td>\n",
       "    </tr>\n",
       "    <tr>\n",
       "      <th>50</th>\n",
       "      <td>B00005N7QN</td>\n",
       "      <td>[Harper's BAZAAR, the fash...</td>\n",
       "      <td>[fashionstyle, women]</td>\n",
       "    </tr>\n",
       "    <tr>\n",
       "      <th>768</th>\n",
       "      <td>B00007AZEO</td>\n",
       "      <td>[Marie Claire Idees focuse...</td>\n",
       "      <td>[fashionstyle, women]</td>\n",
       "    </tr>\n",
       "    <tr>\n",
       "      <th>883</th>\n",
       "      <td>B00007M2OH</td>\n",
       "      <td>[Glamour UK is Britain s n...</td>\n",
       "      <td>[fashionstyle, international]</td>\n",
       "    </tr>\n",
       "    <tr>\n",
       "      <th>2159</th>\n",
       "      <td>B0007INI2C</td>\n",
       "      <td>[New Beauty is the first p...</td>\n",
       "      <td>[fashionstyle]</td>\n",
       "    </tr>\n",
       "  </tbody>\n",
       "</table>\n",
       "</div>\n",
       "      <button class=\"colab-df-convert\" onclick=\"convertToInteractive('df-64822f17-1abd-4595-b269-cac8c779779e')\"\n",
       "              title=\"Convert this dataframe to an interactive table.\"\n",
       "              style=\"display:none;\">\n",
       "        \n",
       "  <svg xmlns=\"http://www.w3.org/2000/svg\" height=\"24px\"viewBox=\"0 0 24 24\"\n",
       "       width=\"24px\">\n",
       "    <path d=\"M0 0h24v24H0V0z\" fill=\"none\"/>\n",
       "    <path d=\"M18.56 5.44l.94 2.06.94-2.06 2.06-.94-2.06-.94-.94-2.06-.94 2.06-2.06.94zm-11 1L8.5 8.5l.94-2.06 2.06-.94-2.06-.94L8.5 2.5l-.94 2.06-2.06.94zm10 10l.94 2.06.94-2.06 2.06-.94-2.06-.94-.94-2.06-.94 2.06-2.06.94z\"/><path d=\"M17.41 7.96l-1.37-1.37c-.4-.4-.92-.59-1.43-.59-.52 0-1.04.2-1.43.59L10.3 9.45l-7.72 7.72c-.78.78-.78 2.05 0 2.83L4 21.41c.39.39.9.59 1.41.59.51 0 1.02-.2 1.41-.59l7.78-7.78 2.81-2.81c.8-.78.8-2.07 0-2.86zM5.41 20L4 18.59l7.72-7.72 1.47 1.35L5.41 20z\"/>\n",
       "  </svg>\n",
       "      </button>\n",
       "      \n",
       "  <style>\n",
       "    .colab-df-container {\n",
       "      display:flex;\n",
       "      flex-wrap:wrap;\n",
       "      gap: 12px;\n",
       "    }\n",
       "\n",
       "    .colab-df-convert {\n",
       "      background-color: #E8F0FE;\n",
       "      border: none;\n",
       "      border-radius: 50%;\n",
       "      cursor: pointer;\n",
       "      display: none;\n",
       "      fill: #1967D2;\n",
       "      height: 32px;\n",
       "      padding: 0 0 0 0;\n",
       "      width: 32px;\n",
       "    }\n",
       "\n",
       "    .colab-df-convert:hover {\n",
       "      background-color: #E2EBFA;\n",
       "      box-shadow: 0px 1px 2px rgba(60, 64, 67, 0.3), 0px 1px 3px 1px rgba(60, 64, 67, 0.15);\n",
       "      fill: #174EA6;\n",
       "    }\n",
       "\n",
       "    [theme=dark] .colab-df-convert {\n",
       "      background-color: #3B4455;\n",
       "      fill: #D2E3FC;\n",
       "    }\n",
       "\n",
       "    [theme=dark] .colab-df-convert:hover {\n",
       "      background-color: #434B5C;\n",
       "      box-shadow: 0px 1px 3px 1px rgba(0, 0, 0, 0.15);\n",
       "      filter: drop-shadow(0px 1px 2px rgba(0, 0, 0, 0.3));\n",
       "      fill: #FFFFFF;\n",
       "    }\n",
       "  </style>\n",
       "\n",
       "      <script>\n",
       "        const buttonEl =\n",
       "          document.querySelector('#df-64822f17-1abd-4595-b269-cac8c779779e button.colab-df-convert');\n",
       "        buttonEl.style.display =\n",
       "          google.colab.kernel.accessAllowed ? 'block' : 'none';\n",
       "\n",
       "        async function convertToInteractive(key) {\n",
       "          const element = document.querySelector('#df-64822f17-1abd-4595-b269-cac8c779779e');\n",
       "          const dataTable =\n",
       "            await google.colab.kernel.invokeFunction('convertToInteractive',\n",
       "                                                     [key], {});\n",
       "          if (!dataTable) return;\n",
       "\n",
       "          const docLinkHtml = 'Like what you see? Visit the ' +\n",
       "            '<a target=\"_blank\" href=https://colab.research.google.com/notebooks/data_table.ipynb>data table notebook</a>'\n",
       "            + ' to learn more about interactive tables.';\n",
       "          element.innerHTML = '';\n",
       "          dataTable['output_type'] = 'display_data';\n",
       "          await google.colab.output.renderOutput(dataTable, element);\n",
       "          const docLink = document.createElement('div');\n",
       "          docLink.innerHTML = docLinkHtml;\n",
       "          element.appendChild(docLink);\n",
       "        }\n",
       "      </script>\n",
       "    </div>\n",
       "  </div>\n",
       "  "
      ],
      "text/plain": [
       "            asin                    description                    clean_categ\n",
       "2     B00005N7OD  [Allure is the beauty expe...          [fashionstyle, women]\n",
       "50    B00005N7QN  [Harper's BAZAAR, the fash...          [fashionstyle, women]\n",
       "768   B00007AZEO  [Marie Claire Idees focuse...          [fashionstyle, women]\n",
       "883   B00007M2OH  [Glamour UK is Britain s n...  [fashionstyle, international]\n",
       "2159  B0007INI2C  [New Beauty is the first p...                 [fashionstyle]"
      ]
     },
     "execution_count": 145,
     "metadata": {},
     "output_type": "execute_result"
    }
   ],
   "source": [
    "pd.set_option('display.max_colwidth',30)\n",
    "# pd.set_option('display.max_rowwidth',5)\n",
    "check_df = meta[meta['asin'].isin(reco_list)]\n",
    "check_df = check_df[['asin','description','clean_categ']].head(5)"
   ]
  },
  {
   "cell_type": "code",
   "execution_count": 161,
   "metadata": {
    "colab": {
     "base_uri": "https://localhost:8080/"
    },
    "executionInfo": {
     "elapsed": 255,
     "status": "ok",
     "timestamp": 1653866262789,
     "user": {
      "displayName": "Bhadri Vaidhyanathan",
      "userId": "02716381227085486844"
     },
     "user_tz": 300
    },
    "id": "I7SkE5FeEAK2",
    "outputId": "f47f3a51-9a51-41c4-8782-71163a5141b7"
   },
   "outputs": [
    {
     "name": "stdout",
     "output_type": "stream",
     "text": [
      "1490\n"
     ]
    },
    {
     "data": {
      "text/plain": [
       "['B000BW56WO',\n",
       " 'B00H287D44',\n",
       " 'B000CR6VFE',\n",
       " 'B000089G4V',\n",
       " 'B000ILVZJ6',\n",
       " 'B00006KNWA',\n",
       " 'B00EV5HJ5E',\n",
       " 'B00YQH98G0',\n",
       " 'B00005N7WA',\n",
       " 'B00005N7WM']"
      ]
     },
     "execution_count": 161,
     "metadata": {},
     "output_type": "execute_result"
    }
   ],
   "source": [
    "for_magazine2 = 'B00005N7Q5'\n",
    "reco_list2 = recommend(for_magazine2)\n",
    "reco_list2"
   ]
  },
  {
   "cell_type": "code",
   "execution_count": 163,
   "metadata": {
    "executionInfo": {
     "elapsed": 250,
     "status": "ok",
     "timestamp": 1653866369394,
     "user": {
      "displayName": "Bhadri Vaidhyanathan",
      "userId": "02716381227085486844"
     },
     "user_tz": 300
    },
    "id": "ocd1xmHBHbxr"
   },
   "outputs": [],
   "source": [
    "reco_list2.insert(0,for_magazine2)"
   ]
  },
  {
   "cell_type": "code",
   "execution_count": 167,
   "metadata": {
    "colab": {
     "base_uri": "https://localhost:8080/",
     "height": 394
    },
    "executionInfo": {
     "elapsed": 238,
     "status": "ok",
     "timestamp": 1653866635375,
     "user": {
      "displayName": "Bhadri Vaidhyanathan",
      "userId": "02716381227085486844"
     },
     "user_tz": 300
    },
    "id": "esZo871UHcJz",
    "outputId": "3abfef53-13bf-46f1-b93a-4f99a9fdb089"
   },
   "outputs": [
    {
     "data": {
      "text/html": [
       "\n",
       "  <div id=\"df-0035dd34-c2d5-44d4-a72d-e65eaed03c57\">\n",
       "    <div class=\"colab-df-container\">\n",
       "      <div>\n",
       "<style scoped>\n",
       "    .dataframe tbody tr th:only-of-type {\n",
       "        vertical-align: middle;\n",
       "    }\n",
       "\n",
       "    .dataframe tbody tr th {\n",
       "        vertical-align: top;\n",
       "    }\n",
       "\n",
       "    .dataframe thead th {\n",
       "        text-align: right;\n",
       "    }\n",
       "</style>\n",
       "<table border=\"1\" class=\"dataframe\">\n",
       "  <thead>\n",
       "    <tr style=\"text-align: right;\">\n",
       "      <th></th>\n",
       "      <th>asin</th>\n",
       "      <th>description</th>\n",
       "      <th>clean_categ</th>\n",
       "    </tr>\n",
       "  </thead>\n",
       "  <tbody>\n",
       "    <tr>\n",
       "      <th>9</th>\n",
       "      <td>B00005N7Q5</td>\n",
       "      <td>[America's Number One sportsman's magazine, fe...</td>\n",
       "      <td>[sportsrecreationoutdoors, sportsleisure, hunt...</td>\n",
       "    </tr>\n",
       "    <tr>\n",
       "      <th>76</th>\n",
       "      <td>B00005N7WA</td>\n",
       "      <td>[The \"Voice of Marine Fishing\", covering ocean...</td>\n",
       "      <td>[sportsrecreationoutdoors, sportsleisure, hunt...</td>\n",
       "    </tr>\n",
       "    <tr>\n",
       "      <th>97</th>\n",
       "      <td>B00005N7WM</td>\n",
       "      <td>[How-to, seasonal editorial and tournaments fo...</td>\n",
       "      <td>[sportsrecreationoutdoors, sportsleisure, hunt...</td>\n",
       "    </tr>\n",
       "    <tr>\n",
       "      <th>458</th>\n",
       "      <td>B00006KNWA</td>\n",
       "      <td>[Designed for the outdoorsman who participates...</td>\n",
       "      <td>[sportsrecreationoutdoors, sportsleisure, hunt...</td>\n",
       "    </tr>\n",
       "    <tr>\n",
       "      <th>904</th>\n",
       "      <td>B000089G4V</td>\n",
       "      <td>[A sportsman's guide to the best hunting and f...</td>\n",
       "      <td>[sportsrecreationoutdoors, sportsleisure, hunt...</td>\n",
       "    </tr>\n",
       "    <tr>\n",
       "      <th>2228</th>\n",
       "      <td>B000BW56WO</td>\n",
       "      <td>[For the outdoor enthusiast, containing up-to-...</td>\n",
       "      <td>[sportsrecreationoutdoors, sportsleisure, hiki...</td>\n",
       "    </tr>\n",
       "    <tr>\n",
       "      <th>2236</th>\n",
       "      <td>B000CR6VFE</td>\n",
       "      <td>[ATV WORLD Magazine publishes FOUR complete is...</td>\n",
       "      <td>[sportsrecreationoutdoors, sportsleisure, extr...</td>\n",
       "    </tr>\n",
       "    <tr>\n",
       "      <th>2318</th>\n",
       "      <td>B000ILVZJ6</td>\n",
       "      <td>[Each issue of Petersen's Hunting Magazine has...</td>\n",
       "      <td>[sportsrecreationoutdoors, sportsleisure, hunt...</td>\n",
       "    </tr>\n",
       "    <tr>\n",
       "      <th>2703</th>\n",
       "      <td>B00EV5HJ5E</td>\n",
       "      <td>[A sportsman's guide to hunting and fishing in...</td>\n",
       "      <td>[sportsrecreationoutdoors, sportsleisure, hunt...</td>\n",
       "    </tr>\n",
       "    <tr>\n",
       "      <th>2733</th>\n",
       "      <td>B00H287D44</td>\n",
       "      <td>[A fishing, hunting and camping guide to Wisco...</td>\n",
       "      <td>[sportsrecreationoutdoors, sportsleisure, hunt...</td>\n",
       "    </tr>\n",
       "    <tr>\n",
       "      <th>3022</th>\n",
       "      <td>B00YQH98G0</td>\n",
       "      <td>[Field &amp; Stream is \"The World's Leading Outdoo...</td>\n",
       "      <td>[sportsrecreationoutdoors, sportsleisure, hunt...</td>\n",
       "    </tr>\n",
       "  </tbody>\n",
       "</table>\n",
       "</div>\n",
       "      <button class=\"colab-df-convert\" onclick=\"convertToInteractive('df-0035dd34-c2d5-44d4-a72d-e65eaed03c57')\"\n",
       "              title=\"Convert this dataframe to an interactive table.\"\n",
       "              style=\"display:none;\">\n",
       "        \n",
       "  <svg xmlns=\"http://www.w3.org/2000/svg\" height=\"24px\"viewBox=\"0 0 24 24\"\n",
       "       width=\"24px\">\n",
       "    <path d=\"M0 0h24v24H0V0z\" fill=\"none\"/>\n",
       "    <path d=\"M18.56 5.44l.94 2.06.94-2.06 2.06-.94-2.06-.94-.94-2.06-.94 2.06-2.06.94zm-11 1L8.5 8.5l.94-2.06 2.06-.94-2.06-.94L8.5 2.5l-.94 2.06-2.06.94zm10 10l.94 2.06.94-2.06 2.06-.94-2.06-.94-.94-2.06-.94 2.06-2.06.94z\"/><path d=\"M17.41 7.96l-1.37-1.37c-.4-.4-.92-.59-1.43-.59-.52 0-1.04.2-1.43.59L10.3 9.45l-7.72 7.72c-.78.78-.78 2.05 0 2.83L4 21.41c.39.39.9.59 1.41.59.51 0 1.02-.2 1.41-.59l7.78-7.78 2.81-2.81c.8-.78.8-2.07 0-2.86zM5.41 20L4 18.59l7.72-7.72 1.47 1.35L5.41 20z\"/>\n",
       "  </svg>\n",
       "      </button>\n",
       "      \n",
       "  <style>\n",
       "    .colab-df-container {\n",
       "      display:flex;\n",
       "      flex-wrap:wrap;\n",
       "      gap: 12px;\n",
       "    }\n",
       "\n",
       "    .colab-df-convert {\n",
       "      background-color: #E8F0FE;\n",
       "      border: none;\n",
       "      border-radius: 50%;\n",
       "      cursor: pointer;\n",
       "      display: none;\n",
       "      fill: #1967D2;\n",
       "      height: 32px;\n",
       "      padding: 0 0 0 0;\n",
       "      width: 32px;\n",
       "    }\n",
       "\n",
       "    .colab-df-convert:hover {\n",
       "      background-color: #E2EBFA;\n",
       "      box-shadow: 0px 1px 2px rgba(60, 64, 67, 0.3), 0px 1px 3px 1px rgba(60, 64, 67, 0.15);\n",
       "      fill: #174EA6;\n",
       "    }\n",
       "\n",
       "    [theme=dark] .colab-df-convert {\n",
       "      background-color: #3B4455;\n",
       "      fill: #D2E3FC;\n",
       "    }\n",
       "\n",
       "    [theme=dark] .colab-df-convert:hover {\n",
       "      background-color: #434B5C;\n",
       "      box-shadow: 0px 1px 3px 1px rgba(0, 0, 0, 0.15);\n",
       "      filter: drop-shadow(0px 1px 2px rgba(0, 0, 0, 0.3));\n",
       "      fill: #FFFFFF;\n",
       "    }\n",
       "  </style>\n",
       "\n",
       "      <script>\n",
       "        const buttonEl =\n",
       "          document.querySelector('#df-0035dd34-c2d5-44d4-a72d-e65eaed03c57 button.colab-df-convert');\n",
       "        buttonEl.style.display =\n",
       "          google.colab.kernel.accessAllowed ? 'block' : 'none';\n",
       "\n",
       "        async function convertToInteractive(key) {\n",
       "          const element = document.querySelector('#df-0035dd34-c2d5-44d4-a72d-e65eaed03c57');\n",
       "          const dataTable =\n",
       "            await google.colab.kernel.invokeFunction('convertToInteractive',\n",
       "                                                     [key], {});\n",
       "          if (!dataTable) return;\n",
       "\n",
       "          const docLinkHtml = 'Like what you see? Visit the ' +\n",
       "            '<a target=\"_blank\" href=https://colab.research.google.com/notebooks/data_table.ipynb>data table notebook</a>'\n",
       "            + ' to learn more about interactive tables.';\n",
       "          element.innerHTML = '';\n",
       "          dataTable['output_type'] = 'display_data';\n",
       "          await google.colab.output.renderOutput(dataTable, element);\n",
       "          const docLink = document.createElement('div');\n",
       "          docLink.innerHTML = docLinkHtml;\n",
       "          element.appendChild(docLink);\n",
       "        }\n",
       "      </script>\n",
       "    </div>\n",
       "  </div>\n",
       "  "
      ],
      "text/plain": [
       "            asin                                        description  \\\n",
       "9     B00005N7Q5  [America's Number One sportsman's magazine, fe...   \n",
       "76    B00005N7WA  [The \"Voice of Marine Fishing\", covering ocean...   \n",
       "97    B00005N7WM  [How-to, seasonal editorial and tournaments fo...   \n",
       "458   B00006KNWA  [Designed for the outdoorsman who participates...   \n",
       "904   B000089G4V  [A sportsman's guide to the best hunting and f...   \n",
       "2228  B000BW56WO  [For the outdoor enthusiast, containing up-to-...   \n",
       "2236  B000CR6VFE  [ATV WORLD Magazine publishes FOUR complete is...   \n",
       "2318  B000ILVZJ6  [Each issue of Petersen's Hunting Magazine has...   \n",
       "2703  B00EV5HJ5E  [A sportsman's guide to hunting and fishing in...   \n",
       "2733  B00H287D44  [A fishing, hunting and camping guide to Wisco...   \n",
       "3022  B00YQH98G0  [Field & Stream is \"The World's Leading Outdoo...   \n",
       "\n",
       "                                            clean_categ  \n",
       "9     [sportsrecreationoutdoors, sportsleisure, hunt...  \n",
       "76    [sportsrecreationoutdoors, sportsleisure, hunt...  \n",
       "97    [sportsrecreationoutdoors, sportsleisure, hunt...  \n",
       "458   [sportsrecreationoutdoors, sportsleisure, hunt...  \n",
       "904   [sportsrecreationoutdoors, sportsleisure, hunt...  \n",
       "2228  [sportsrecreationoutdoors, sportsleisure, hiki...  \n",
       "2236  [sportsrecreationoutdoors, sportsleisure, extr...  \n",
       "2318  [sportsrecreationoutdoors, sportsleisure, hunt...  \n",
       "2703  [sportsrecreationoutdoors, sportsleisure, hunt...  \n",
       "2733  [sportsrecreationoutdoors, sportsleisure, hunt...  \n",
       "3022  [sportsrecreationoutdoors, sportsleisure, hunt...  "
      ]
     },
     "execution_count": 167,
     "metadata": {},
     "output_type": "execute_result"
    }
   ],
   "source": [
    "pd.set_option('display.max_colwidth',50)\n",
    "check_df = meta[meta['asin'].isin(reco_list2)]\n",
    "check_df = check_df[['asin','description','clean_categ']]\n",
    "check_df"
   ]
  },
  {
   "cell_type": "code",
   "execution_count": 155,
   "metadata": {
    "colab": {
     "base_uri": "https://localhost:8080/",
     "height": 772
    },
    "executionInfo": {
     "elapsed": 349,
     "status": "ok",
     "timestamp": 1653866138491,
     "user": {
      "displayName": "Bhadri Vaidhyanathan",
      "userId": "02716381227085486844"
     },
     "user_tz": 300
    },
    "id": "9VZSZ7dkF3Gk",
    "outputId": "2d316ec2-19f5-4323-ce40-ca225893f381"
   },
   "outputs": [
    {
     "data": {
      "text/html": [
       "\n",
       "  <div id=\"df-9c48da20-2d87-490e-a86a-3784d126db61\">\n",
       "    <div class=\"colab-df-container\">\n",
       "      <div>\n",
       "<style scoped>\n",
       "    .dataframe tbody tr th:only-of-type {\n",
       "        vertical-align: middle;\n",
       "    }\n",
       "\n",
       "    .dataframe tbody tr th {\n",
       "        vertical-align: top;\n",
       "    }\n",
       "\n",
       "    .dataframe thead th {\n",
       "        text-align: right;\n",
       "    }\n",
       "</style>\n",
       "<table border=\"1\" class=\"dataframe\">\n",
       "  <thead>\n",
       "    <tr style=\"text-align: right;\">\n",
       "      <th></th>\n",
       "      <th>asin</th>\n",
       "      <th>bag_of_words</th>\n",
       "    </tr>\n",
       "  </thead>\n",
       "  <tbody>\n",
       "    <tr>\n",
       "      <th>0</th>\n",
       "      <td>B00005N7NQ</td>\n",
       "      <td>professionaleducationaljournals professionaltrade humanitiessocialsciences economicseconomictheory reason edited people interested economic social international issues viewpoint stresses individual liberty private responsibility limited government emphasis pacific rim localstate national impact ...</td>\n",
       "    </tr>\n",
       "    <tr>\n",
       "      <th>1</th>\n",
       "      <td>B00005N7OC</td>\n",
       "      <td>artsmusicphotography music written musicians covers variety musical styles includes transcriptions recordings solo pieces guitar</td>\n",
       "    </tr>\n",
       "    <tr>\n",
       "      <th>2</th>\n",
       "      <td>B00005N7OD</td>\n",
       "      <td>fashionstyle women allure beauty expert every issue full celebrity tips insider secrets pros like works overnight lifetime editors pick favorite new products reveal styles really work subscription includes annual special issues makeovers best</td>\n",
       "    </tr>\n",
       "    <tr>\n",
       "      <th>3</th>\n",
       "      <td>B00005N7O9</td>\n",
       "      <td>sportsrecreationoutdoors sportsleisure flying flight journal includes articles aviation history contemporary practice military commercial civil aircraft notable personalities technical aspects visits air shows museums reports restorations photography threeview drawings art coverage virtual exper...</td>\n",
       "    </tr>\n",
       "    <tr>\n",
       "      <th>4</th>\n",
       "      <td>B00005N7O6</td>\n",
       "      <td>professionaleducationaljournals professionaltrade transportation rider published road street riding motorcycle enthusiastthe enjoys touring sport accent performance week ending also may use machine commuting magazine includes equipment accessory apparel evaluations cycle related travel adventure...</td>\n",
       "    </tr>\n",
       "    <tr>\n",
       "      <th>5</th>\n",
       "      <td>B00005N7P0</td>\n",
       "      <td>technology computersinternet maximum pc ultimate upgrade savvy owners every month magazine packed breaking news tons tips amp techniques indepth reviews anywheredesigned rabid hobbyist brings written irreverent edgy style full disclosure modus operandi theres almost overwhelming amount tech spec...</td>\n",
       "    </tr>\n",
       "    <tr>\n",
       "      <th>6</th>\n",
       "      <td>B00005N7QG</td>\n",
       "      <td>cookingfoodwine recipestechniques good housekeeping magazine together institute seal american icon consumer protection quality assurance every issue delivers unique mix independent investigation trusted reporting along inspirational personal stories magazines rich tradition embodies commitment m...</td>\n",
       "    </tr>\n",
       "    <tr>\n",
       "      <th>7</th>\n",
       "      <td>B00005N7PI</td>\n",
       "      <td>professionaleducationaljournals professionaltrade medicine get expert unbiased reporting live healthier longer discover works doesnt prescription drugs alternative therapies disease prevention nutrition name trust outside advertising</td>\n",
       "    </tr>\n",
       "    <tr>\n",
       "      <th>8</th>\n",
       "      <td>B00005N7OP</td>\n",
       "      <td>artsmusicphotography artarthistory magazine reports personalities trends events shape international art world articles focus ranging old masters contemporary genres regular features include reviews books exhibits travel destinations investment appreciation advice insights</td>\n",
       "    </tr>\n",
       "    <tr>\n",
       "      <th>9</th>\n",
       "      <td>B00005N7Q5</td>\n",
       "      <td>sportsrecreationoutdoors sportsleisure huntingfirearms americas number one sportsmans magazine featuring indepth articles hunting fishing outdoor adventure conservation news firstclass fiction field stream editorial excellence years</td>\n",
       "    </tr>\n",
       "    <tr>\n",
       "      <th>10</th>\n",
       "      <td>B00005N7PN</td>\n",
       "      <td>homegarden designdecoration country living guide creating ultimate style issue offers inspirational ideas ondecorating remodeling antiques collecting gardening landscaping entertaining travel</td>\n",
       "    </tr>\n",
       "    <tr>\n",
       "      <th>11</th>\n",
       "      <td>B00005N7QD</td>\n",
       "      <td>sportsrecreationoutdoors sportsleisure golf golf digest publication issue packed instructional tips techniques exclusive instruction games hottest pros like phil mickelson tiger woods reviews top equipment personalized section pocket take wherever go</td>\n",
       "    </tr>\n",
       "    <tr>\n",
       "      <th>12</th>\n",
       "      <td>B00005N7O3</td>\n",
       "      <td>sportsrecreationoutdoors sportsleisure huntingfirearms archery equipment authority dedicated providing reliable date information available latest amp bowhunting enthusiasts</td>\n",
       "    </tr>\n",
       "    <tr>\n",
       "      <th>13</th>\n",
       "      <td>B00005N7PG</td>\n",
       "      <td>travelcityregional cond nast traveler requires writers travel anonymously pay way assures get credible truthful information guide youll discover best islands cities spas castles cruises subscription also includes musthave gold list hot readers choice issues filled worlds places eat drink shop st...</td>\n",
       "    </tr>\n",
       "    <tr>\n",
       "      <th>14</th>\n",
       "      <td>B00005N7QY</td>\n",
       "      <td>petsanimals mischievous fascinating quiet cuddly cats companions keep latest information healthcare feeding breeding adoption products furry friends share stories photos find great gift ideas fellow cat lover</td>\n",
       "    </tr>\n",
       "  </tbody>\n",
       "</table>\n",
       "</div>\n",
       "      <button class=\"colab-df-convert\" onclick=\"convertToInteractive('df-9c48da20-2d87-490e-a86a-3784d126db61')\"\n",
       "              title=\"Convert this dataframe to an interactive table.\"\n",
       "              style=\"display:none;\">\n",
       "        \n",
       "  <svg xmlns=\"http://www.w3.org/2000/svg\" height=\"24px\"viewBox=\"0 0 24 24\"\n",
       "       width=\"24px\">\n",
       "    <path d=\"M0 0h24v24H0V0z\" fill=\"none\"/>\n",
       "    <path d=\"M18.56 5.44l.94 2.06.94-2.06 2.06-.94-2.06-.94-.94-2.06-.94 2.06-2.06.94zm-11 1L8.5 8.5l.94-2.06 2.06-.94-2.06-.94L8.5 2.5l-.94 2.06-2.06.94zm10 10l.94 2.06.94-2.06 2.06-.94-2.06-.94-.94-2.06-.94 2.06-2.06.94z\"/><path d=\"M17.41 7.96l-1.37-1.37c-.4-.4-.92-.59-1.43-.59-.52 0-1.04.2-1.43.59L10.3 9.45l-7.72 7.72c-.78.78-.78 2.05 0 2.83L4 21.41c.39.39.9.59 1.41.59.51 0 1.02-.2 1.41-.59l7.78-7.78 2.81-2.81c.8-.78.8-2.07 0-2.86zM5.41 20L4 18.59l7.72-7.72 1.47 1.35L5.41 20z\"/>\n",
       "  </svg>\n",
       "      </button>\n",
       "      \n",
       "  <style>\n",
       "    .colab-df-container {\n",
       "      display:flex;\n",
       "      flex-wrap:wrap;\n",
       "      gap: 12px;\n",
       "    }\n",
       "\n",
       "    .colab-df-convert {\n",
       "      background-color: #E8F0FE;\n",
       "      border: none;\n",
       "      border-radius: 50%;\n",
       "      cursor: pointer;\n",
       "      display: none;\n",
       "      fill: #1967D2;\n",
       "      height: 32px;\n",
       "      padding: 0 0 0 0;\n",
       "      width: 32px;\n",
       "    }\n",
       "\n",
       "    .colab-df-convert:hover {\n",
       "      background-color: #E2EBFA;\n",
       "      box-shadow: 0px 1px 2px rgba(60, 64, 67, 0.3), 0px 1px 3px 1px rgba(60, 64, 67, 0.15);\n",
       "      fill: #174EA6;\n",
       "    }\n",
       "\n",
       "    [theme=dark] .colab-df-convert {\n",
       "      background-color: #3B4455;\n",
       "      fill: #D2E3FC;\n",
       "    }\n",
       "\n",
       "    [theme=dark] .colab-df-convert:hover {\n",
       "      background-color: #434B5C;\n",
       "      box-shadow: 0px 1px 3px 1px rgba(0, 0, 0, 0.15);\n",
       "      filter: drop-shadow(0px 1px 2px rgba(0, 0, 0, 0.3));\n",
       "      fill: #FFFFFF;\n",
       "    }\n",
       "  </style>\n",
       "\n",
       "      <script>\n",
       "        const buttonEl =\n",
       "          document.querySelector('#df-9c48da20-2d87-490e-a86a-3784d126db61 button.colab-df-convert');\n",
       "        buttonEl.style.display =\n",
       "          google.colab.kernel.accessAllowed ? 'block' : 'none';\n",
       "\n",
       "        async function convertToInteractive(key) {\n",
       "          const element = document.querySelector('#df-9c48da20-2d87-490e-a86a-3784d126db61');\n",
       "          const dataTable =\n",
       "            await google.colab.kernel.invokeFunction('convertToInteractive',\n",
       "                                                     [key], {});\n",
       "          if (!dataTable) return;\n",
       "\n",
       "          const docLinkHtml = 'Like what you see? Visit the ' +\n",
       "            '<a target=\"_blank\" href=https://colab.research.google.com/notebooks/data_table.ipynb>data table notebook</a>'\n",
       "            + ' to learn more about interactive tables.';\n",
       "          element.innerHTML = '';\n",
       "          dataTable['output_type'] = 'display_data';\n",
       "          await google.colab.output.renderOutput(dataTable, element);\n",
       "          const docLink = document.createElement('div');\n",
       "          docLink.innerHTML = docLinkHtml;\n",
       "          element.appendChild(docLink);\n",
       "        }\n",
       "      </script>\n",
       "    </div>\n",
       "  </div>\n",
       "  "
      ],
      "text/plain": [
       "          asin  \\\n",
       "0   B00005N7NQ   \n",
       "1   B00005N7OC   \n",
       "2   B00005N7OD   \n",
       "3   B00005N7O9   \n",
       "4   B00005N7O6   \n",
       "5   B00005N7P0   \n",
       "6   B00005N7QG   \n",
       "7   B00005N7PI   \n",
       "8   B00005N7OP   \n",
       "9   B00005N7Q5   \n",
       "10  B00005N7PN   \n",
       "11  B00005N7QD   \n",
       "12  B00005N7O3   \n",
       "13  B00005N7PG   \n",
       "14  B00005N7QY   \n",
       "\n",
       "                                                                                                                                                                                                                                                                                                   bag_of_words  \n",
       "0   professionaleducationaljournals professionaltrade humanitiessocialsciences economicseconomictheory reason edited people interested economic social international issues viewpoint stresses individual liberty private responsibility limited government emphasis pacific rim localstate national impact ...  \n",
       "1                                                                                                                                                                             artsmusicphotography music written musicians covers variety musical styles includes transcriptions recordings solo pieces guitar   \n",
       "2                                                           fashionstyle women allure beauty expert every issue full celebrity tips insider secrets pros like works overnight lifetime editors pick favorite new products reveal styles really work subscription includes annual special issues makeovers best   \n",
       "3   sportsrecreationoutdoors sportsleisure flying flight journal includes articles aviation history contemporary practice military commercial civil aircraft notable personalities technical aspects visits air shows museums reports restorations photography threeview drawings art coverage virtual exper...  \n",
       "4   professionaleducationaljournals professionaltrade transportation rider published road street riding motorcycle enthusiastthe enjoys touring sport accent performance week ending also may use machine commuting magazine includes equipment accessory apparel evaluations cycle related travel adventure...  \n",
       "5   technology computersinternet maximum pc ultimate upgrade savvy owners every month magazine packed breaking news tons tips amp techniques indepth reviews anywheredesigned rabid hobbyist brings written irreverent edgy style full disclosure modus operandi theres almost overwhelming amount tech spec...  \n",
       "6   cookingfoodwine recipestechniques good housekeeping magazine together institute seal american icon consumer protection quality assurance every issue delivers unique mix independent investigation trusted reporting along inspirational personal stories magazines rich tradition embodies commitment m...  \n",
       "7                                                                    professionaleducationaljournals professionaltrade medicine get expert unbiased reporting live healthier longer discover works doesnt prescription drugs alternative therapies disease prevention nutrition name trust outside advertising   \n",
       "8                             artsmusicphotography artarthistory magazine reports personalities trends events shape international art world articles focus ranging old masters contemporary genres regular features include reviews books exhibits travel destinations investment appreciation advice insights   \n",
       "9                                                                     sportsrecreationoutdoors sportsleisure huntingfirearms americas number one sportsmans magazine featuring indepth articles hunting fishing outdoor adventure conservation news firstclass fiction field stream editorial excellence years   \n",
       "10                                                                                                             homegarden designdecoration country living guide creating ultimate style issue offers inspirational ideas ondecorating remodeling antiques collecting gardening landscaping entertaining travel   \n",
       "11                                                  sportsrecreationoutdoors sportsleisure golf golf digest publication issue packed instructional tips techniques exclusive instruction games hottest pros like phil mickelson tiger woods reviews top equipment personalized section pocket take wherever go   \n",
       "12                                                                                                                                sportsrecreationoutdoors sportsleisure huntingfirearms archery equipment authority dedicated providing reliable date information available latest amp bowhunting enthusiasts   \n",
       "13  travelcityregional cond nast traveler requires writers travel anonymously pay way assures get credible truthful information guide youll discover best islands cities spas castles cruises subscription also includes musthave gold list hot readers choice issues filled worlds places eat drink shop st...  \n",
       "14                                                                                            petsanimals mischievous fascinating quiet cuddly cats companions keep latest information healthcare feeding breeding adoption products furry friends share stories photos find great gift ideas fellow cat lover   "
      ]
     },
     "execution_count": 155,
     "metadata": {},
     "output_type": "execute_result"
    }
   ],
   "source": [
    "pd.set_option('display.max_colwidth',300)\n",
    "cb_df.head(15)"
   ]
  }
 ],
 "metadata": {
  "colab": {
   "collapsed_sections": [],
   "name": "ContentBasedModel .ipynb",
   "provenance": [
    {
     "file_id": "1R8SLyz8X5CU3BDvZtz29KlcxWq6LoH6h",
     "timestamp": 1653753672088
    }
   ]
  },
  "interpreter": {
   "hash": "d61c8c14b2b08d6ca869c9cb0d756abc0c62b40bc1b6b2d47cb9db780a359cc7"
  },
  "kernelspec": {
   "display_name": "Python 3 (ipykernel)",
   "language": "python",
   "name": "python3"
  },
  "language_info": {
   "codemirror_mode": {
    "name": "ipython",
    "version": 3
   },
   "file_extension": ".py",
   "mimetype": "text/x-python",
   "name": "python",
   "nbconvert_exporter": "python",
   "pygments_lexer": "ipython3",
   "version": "3.9.7"
  }
 },
 "nbformat": 4,
 "nbformat_minor": 0
}
